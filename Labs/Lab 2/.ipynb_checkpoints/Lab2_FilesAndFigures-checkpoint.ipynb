{
 "cells": [
  {
   "cell_type": "markdown",
   "id": "substantial-bobby",
   "metadata": {},
   "source": [
    "# Lab 2. Files and figures\n",
    "#### Computational Methods for Geoscience - EPS 400/522\n",
    "#### Instructor: Eric Lindsey\n",
    "---------\n",
    "\n",
    "When you are done with the lab, export it as an HTML or PDF file (File menu -> Save and export as), and turn it in along with your beautiful PDF map from question 5."
   ]
  },
  {
   "cell_type": "code",
   "execution_count": null,
   "id": "noticed-hypothetical",
   "metadata": {},
   "outputs": [],
   "source": [
    "#import statements\n",
    "import numpy as np\n",
    "import pandas as pd\n",
    "import matplotlib.pyplot as plt\n",
    "import netCDF4 as nc"
   ]
  },
  {
   "cell_type": "markdown",
   "id": "ethical-morocco",
   "metadata": {},
   "source": [
    "### Assignment 1: Ask the user for a number, then print the factorial of that number (Use np.math.factorial)"
   ]
  },
  {
   "cell_type": "code",
   "execution_count": null,
   "id": "certain-moore",
   "metadata": {},
   "outputs": [],
   "source": []
  },
  {
   "cell_type": "markdown",
   "id": "original-prize",
   "metadata": {},
   "source": [
    "### Assignment 2: Download and read in a csv file of recent earthquakes\n",
    "\n",
    "Go to https://earthquake.usgs.gov/earthquakes/search/ and conduct a search of your choice, but make sure it contains at least 1 magnitude 7 or larger event.\n",
    "\n",
    "Under 'output options' change the format to 'CSV', it should download directly to your computer.\n",
    "\n",
    "Now, read this file into python using Pandas, and print out just the 'time', 'latitude', 'longitude', 'depth' and 'mag' columns, for only the earthquakes over magnitude 7.\n",
    "\n",
    "Hint: if you have a pandas data frame with lots of columns and only want to print some, you can give a list of just the ones you want to print like so:\n",
    "\n",
    "    print(data['col1','col2','col3'])"
   ]
  },
  {
   "cell_type": "code",
   "execution_count": null,
   "id": "prostate-ability",
   "metadata": {},
   "outputs": [],
   "source": []
  },
  {
   "cell_type": "markdown",
   "id": "fabulous-norman",
   "metadata": {},
   "source": [
    "### Assignment 3: plotting earthquakes\n",
    "\n",
    "Plot the earthquakes from your USGS query above. The X and Y axes of the plot should be longitude and latitude, but you can choose how to represent depth, magnitude, time, etc. (choose at least 1 of these to represent). You could use color, marker size, 3D heights, etc. Don't go too crazy, but have fun! Take a look at some demos here, maybe copy one you like and modify it to your use: https://matplotlib.org/stable/gallery/index.html"
   ]
  },
  {
   "cell_type": "code",
   "execution_count": null,
   "id": "a090628e-0e81-465a-a602-44b38572d817",
   "metadata": {},
   "outputs": [],
   "source": []
  },
  {
   "cell_type": "markdown",
   "id": "d070cb3d-552a-4588-a95f-0fec10ac5ec0",
   "metadata": {},
   "source": [
    "### Assignment 4: Working with datetime\n",
    "\n",
    "Plot the earthquake magnitudes from your query over time, making sure to take care of the 'datetime' formatting of both the data and the x-axis of the plot.\n",
    "\n",
    "Hint: import the module 'datetime' and then use the function datetime.datetime.strptime() to convert the string-formatted dates into datetime objects.\n",
    "\n",
    "This one may be tricky - use chatgpt or the datetime documentation to help!"
   ]
  },
  {
   "cell_type": "code",
   "execution_count": null,
   "id": "turned-cleveland",
   "metadata": {},
   "outputs": [],
   "source": []
  },
  {
   "cell_type": "markdown",
   "id": "coastal-causing",
   "metadata": {},
   "source": [
    "### Assignment 5: Make a beautiful SST plot\n",
    "Download the full monthly timeseries of sea surface temperatures from 1891 to present ('sst.mon.mean.nc', 156 MB) from https://downloads.psl.noaa.gov/Datasets/COBE/.\n",
    "\n",
    "Create a beautiful plot of last month's SST map, and use plt.savefig() to save it as a PDF to turn in alongside the lab. I will share my favorite next week - use creative colorschemes, plotting methods, or anything else unexpected!\n"
   ]
  },
  {
   "cell_type": "code",
   "execution_count": null,
   "id": "gross-senior",
   "metadata": {},
   "outputs": [],
   "source": []
  },
  {
   "cell_type": "markdown",
   "id": "f3e71896-9414-49d8-8782-4b6cd040adc0",
   "metadata": {},
   "source": [
    "### Assignment 6. Interactive SST plot\n",
    "\n",
    "Create an interactive plot of the whole SST timeseries, with a slider that allows you to scan through time. Make sure the title of the plot always reflects the month and year currently displayed (you'll have to work with the 'time' component of the NetCDF file. It is expressed as \"days since 1891-01-01\", so you will need to convert this into a nicer format. Check out the end of the matplotlib-help file for a clue on this!\n",
    "\n",
    "Also, it may be clearer if you set the colorbar to have a fixed range so you can more easily see changes in the temperature over time. Use plt.clim() or ax.set_clim()."
   ]
  },
  {
   "cell_type": "code",
   "execution_count": null,
   "id": "feb37027-7ac1-4d0e-a795-be202a39cdb8",
   "metadata": {},
   "outputs": [],
   "source": []
  }
 ],
 "metadata": {
  "kernelspec": {
   "display_name": "Python 3 (ipykernel)",
   "language": "python",
   "name": "python3"
  },
  "language_info": {
   "codemirror_mode": {
    "name": "ipython",
    "version": 3
   },
   "file_extension": ".py",
   "mimetype": "text/x-python",
   "name": "python",
   "nbconvert_exporter": "python",
   "pygments_lexer": "ipython3",
   "version": "3.10.8"
  }
 },
 "nbformat": 4,
 "nbformat_minor": 5
}
