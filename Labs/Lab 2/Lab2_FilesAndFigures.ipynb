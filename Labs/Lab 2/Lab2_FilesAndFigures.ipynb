{
 "cells": [
  {
   "cell_type": "markdown",
   "id": "substantial-bobby",
   "metadata": {},
   "source": [
    "# Lab 2. Files and figures\n",
    "#### Computational Methods for Geoscience - EPS 400/522\n",
    "#### Instructor: Eric Lindsey\n",
    "---------\n",
    "\n",
    "When you are done with the lab, export it as an HTML or PDF file (File menu -> Save and export as), and turn it in along with your beautiful PDF map from question 5."
   ]
  },
  {
   "cell_type": "code",
   "execution_count": 3,
   "id": "noticed-hypothetical",
   "metadata": {},
   "outputs": [],
   "source": [
    "#import statements\n",
    "import numpy as np\n",
    "import pandas as pd\n",
    "import matplotlib.pyplot as plt\n",
    "import netCDF4 as nc"
   ]
  },
  {
   "cell_type": "markdown",
   "id": "ethical-morocco",
   "metadata": {},
   "source": [
    "### Assignment 1: Ask the user for a number, then print the factorial of that number (Use np.math.factorial)"
   ]
  },
  {
   "cell_type": "code",
   "execution_count": null,
   "id": "certain-moore",
   "metadata": {},
   "outputs": [],
   "source": []
  },
  {
   "cell_type": "markdown",
   "id": "original-prize",
   "metadata": {
    "user_expressions": []
   },
   "source": [
    "### Assignment 2: Download and read in a csv file of recent earthquakes\n",
    "\n",
    "Go to [USGS Earthquake Catalog](https://earthquake.usgs.gov/earthquakes/search/) and conduct a search of your choice, but make sure it contains at least 1 magnitude 7 or larger event.\n",
    "\n",
    "Under 'output options' change the format to 'CSV', it should download directly to your computer.\n",
    "\n",
    "Now, read this file into python using Pandas, and print out just the 'time', 'latitude', 'longitude', 'depth' and 'mag' columns, for only the earthquakes over magnitude 7.\n",
    "\n",
    "Hint: if you have a pandas data frame with lots of columns and only want to print some, you can give a list of just the ones you want to print like so:\n",
    "\n",
    "    print(data[['col1','col2','col3']])"
   ]
  },
  {
   "cell_type": "code",
   "execution_count": 18,
   "id": "prostate-ability",
   "metadata": {},
   "outputs": [
    {
     "name": "stdout",
     "output_type": "stream",
     "text": [
      "                         time  longitude  latitude  depth  mag\n",
      "0    2010-12-15T18:22:23.540Z    -69.143   -17.679  136.6  5.1\n",
      "1    2010-12-13T18:51:05.360Z    -73.080   -33.989   29.3  5.2\n",
      "2    2010-11-29T19:57:53.880Z    -66.712   -24.012  182.1  5.2\n",
      "3    2010-11-28T08:19:45.000Z    -72.043   -34.672   41.9  5.3\n",
      "4    2010-11-25T04:54:46.000Z    -69.793   -25.060   28.7  5.0\n",
      "..                        ...        ...       ...    ...  ...\n",
      "437  2010-01-20T19:07:38.720Z    -65.809   -57.773   10.0  5.1\n",
      "438  2010-01-19T17:28:15.360Z    -65.829   -27.584   26.8  5.2\n",
      "439  2010-01-18T12:28:34.930Z    -68.599   -31.355   94.1  5.4\n",
      "440  2010-01-17T12:00:01.080Z    -65.879   -57.664    5.0  6.3\n",
      "441  2010-01-05T01:34:25.430Z    -74.034   -16.481   28.0  5.1\n",
      "\n",
      "[442 rows x 5 columns]\n"
     ]
    },
    {
     "data": {
      "image/png": "[encoded data removed]",
      "text/plain": [
       "<Figure size 640x480 with 1 Axes>"
      ]
     },
     "metadata": {},
     "output_type": "display_data"
    }
   ],
   "source": [
    "# read in the data with missing values and make a quick plot.\n",
    "data1=pd.read_csv('USGS_ChileEarthquakes_2010.csv')\n",
    "print(data1[['time', 'longitude', 'latitude','depth', 'mag']])\n",
    "plt.plot(data1['time'],data1['mag'],'k.') # notice I set the marker to black dots with 'k.'\n",
    "plt.show()"
   ]
  },
  {
   "cell_type": "code",
   "execution_count": null,
   "id": "1afdc435-5b1a-47b9-bd7e-f428aeef697b",
   "metadata": {},
   "outputs": [],
   "source": [
    "data1 = "
   ]
  },
  {
   "cell_type": "markdown",
   "id": "fabulous-norman",
   "metadata": {
    "user_expressions": []
   },
   "source": [
    "### Assignment 3: plotting earthquakes\n",
    "\n",
    "Plot the earthquakes from your USGS query above. The X and Y axes of the plot should be longitude and latitude, but you can choose how to represent depth, magnitude, time, etc. (choose at least 1 of these to represent). You could use color, marker size, 3D heights, etc. Don't go too crazy, but have fun! Take a look at some demos here, maybe copy one you like and modify it to your use: [MatPlotLib](https://matplotlib.org/stable/gallery/index.html)"
   ]
  },
  {
   "cell_type": "code",
   "execution_count": null,
   "id": "a090628e-0e81-465a-a602-44b38572d817",
   "metadata": {},
   "outputs": [],
   "source": []
  },
  {
   "cell_type": "markdown",
   "id": "d070cb3d-552a-4588-a95f-0fec10ac5ec0",
   "metadata": {},
   "source": [
    "### Assignment 4: Working with datetime\n",
    "\n",
    "Plot the earthquake magnitudes from your query over time, making sure to take care of the 'datetime' formatting of both the data and the x-axis of the plot.\n",
    "\n",
    "Hint: import the module 'datetime' and then use the function datetime.datetime.strptime() to convert the string-formatted dates into datetime objects.\n",
    "\n",
    "This one may be tricky - use chatgpt or the datetime documentation to help!"
   ]
  },
  {
   "cell_type": "code",
   "execution_count": null,
   "id": "turned-cleveland",
   "metadata": {},
   "outputs": [],
   "source": [
    "from datetime import datetime"
   ]
  },
  {
   "cell_type": "markdown",
   "id": "coastal-causing",
   "metadata": {
    "user_expressions": []
   },
   "source": [
    "### Assignment 5: Make a beautiful SST plot\n",
    "Download the full monthly timeseries of sea surface temperatures from 1891 to present ('sst.mon.mean.nc', 156 MB) from [NOAA Physical Sciences Labratory](https://downloads.psl.noaa.gov/Datasets/COBE/).\n",
    "\n",
    "Create a beautiful plot of last month's SST map, and use plt.savefig() to save it as a PDF to turn in alongside the lab. I will share my favorite next week - use creative colorschemes, plotting methods, or anything else unexpected!\n"
   ]
  },
  {
   "cell_type": "code",
   "execution_count": null,
   "id": "gross-senior",
   "metadata": {},
   "outputs": [],
   "source": []
  },
  {
   "cell_type": "markdown",
   "id": "f3e71896-9414-49d8-8782-4b6cd040adc0",
   "metadata": {},
   "source": [
    "### Assignment 6. Interactive SST plot\n",
    "\n",
    "Create an interactive plot of the whole SST timeseries, with a slider that allows you to scan through time. Make sure the title of the plot always reflects the month and year currently displayed (you'll have to work with the 'time' component of the NetCDF file. It is expressed as \"days since 1891-01-01\", so you will need to convert this into a nicer format. Check out the end of the matplotlib-help file for a clue on this!\n",
    "\n",
    "Also, it may be clearer if you set the colorbar to have a fixed range so you can more easily see changes in the temperature over time. Use plt.clim() or ax.set_clim()."
   ]
  },
  {
   "cell_type": "code",
   "execution_count": null,
   "id": "feb37027-7ac1-4d0e-a795-be202a39cdb8",
   "metadata": {},
   "outputs": [],
   "source": []
  }
 ],
 "metadata": {
  "kernelspec": {
   "display_name": "Python 3 (ipykernel)",
   "language": "python",
   "name": "python3"
  },
  "language_info": {
   "codemirror_mode": {
    "name": "ipython",
    "version": 3
   },
   "file_extension": ".py",
   "mimetype": "text/x-python",
   "name": "python",
   "nbconvert_exporter": "python",
   "pygments_lexer": "ipython3",
   "version": "3.10.12"
  }
 },
 "nbformat": 4,
 "nbformat_minor": 5
}
