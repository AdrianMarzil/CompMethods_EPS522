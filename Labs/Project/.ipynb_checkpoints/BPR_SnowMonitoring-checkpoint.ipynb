{
 "cells": [
  {
   "cell_type": "markdown",
   "metadata": {},
   "source": [
    "# Banded Peak Ranch (BPR) Preliminary Analysis"
   ]
  },
  {
   "cell_type": "markdown",
   "metadata": {},
   "source": [
    "### Import Libraries"
   ]
  },
  {
   "cell_type": "code",
   "execution_count": 1,
   "metadata": {},
   "outputs": [],
   "source": [
    "import numpy as np\n",
    "import pandas as pd\n",
    "import xarray as xr\n",
    "\n",
    "import glob\n",
    "import geopandas\n",
    "import rioxarray\n",
    "import re\n",
    "\n",
    "import matplotlib.pyplot as plt\n",
    "import matplotlib.dates as mdates\n",
    "from mpl_toolkits.basemap import Basemap\n",
    "from datetime import datetime\n",
    "\n",
    "\n",
    "import contextily as cx\n",
    "import cartopy.crs as ccrs\n",
    "import cartopy.io.img_tiles as cimgt\n",
    "from cartopy.util import add_cyclic_point\n",
    "from shapely.geometry import mapping\n",
    "from cartopy.mpl.ticker import LongitudeFormatter, LatitudeFormatter\n",
    "\n",
    "import io\n",
    "from urllib.request import urlopen, Request\n",
    "from PIL import Image"
   ]
  },
  {
   "cell_type": "markdown",
   "metadata": {},
   "source": [
    "### Import Shapefiles"
   ]
  },
  {
   "cell_type": "code",
   "execution_count": null,
   "metadata": {},
   "outputs": [],
   "source": [
    "# Banded Peak shapefile polygon\n",
    "BPRjmpoly = gpd.read_file(\"/Users/Adrian/OneDrive - University of New Mexico/SNOW RESEARCH/BANDED PEAK (BOR) Project/BPR GIS/Tim's Shapefiles/mygeodata (8)/forest_treatments_2015-polygon.shp\")"
   ]
  },
  {
   "cell_type": "markdown",
   "metadata": {},
   "source": [
    "<hr>"
   ]
  },
  {
   "cell_type": "markdown",
   "metadata": {},
   "source": [
    "## Stream Gauge Analysis\n",
    "### Import Gauge Data: Navajo River Gauge at Banded Peak"
   ]
  },
  {
   "cell_type": "code",
   "execution_count": null,
   "metadata": {},
   "outputs": [],
   "source": [
    "# Navajo R. Gauge Data\n",
    "SGNav = pd.read_csv(\"/Users/Adrian/OneDrive - University of New Mexico/SNOW RESEARCH/RESEARCH DATA/Banded Peak/Navajo Gauge/NavajoSG_WY_20162021.csv\")\n",
    "SGNav['Date Time'] = SGNav['Date Time'].str[2:]\n",
    "SGNav['Date Time'] = SGNav['Date Time'].str.split(' ').str[0]"
   ]
  },
  {
   "cell_type": "code",
   "execution_count": null,
   "metadata": {},
   "outputs": [],
   "source": [
    "#SGNav['DISCHRG Value'].plot()\n",
    "\n",
    "SGNav.plot(x='Date Time', y='DISCHRG Value', figsize=(12,6), grid=True)\n",
    "#total_year[-15:].plot(x='year', y=['action', 'comedy'], figsize=(10,5), grid=True)\n",
    "\n",
    "plt.ylabel('Discharge (cfs)', fontsize=14)\n",
    "plt.xlabel('Date', fontsize=14)\n",
    "plt.title('Navajo Discharge', fontsize=16)"
   ]
  },
  {
   "cell_type": "markdown",
   "metadata": {},
   "source": [
    "<hr>"
   ]
  },
  {
   "cell_type": "markdown",
   "metadata": {},
   "source": [
    "## SNOTEL Data"
   ]
  },
  {
   "cell_type": "code",
   "execution_count": null,
   "metadata": {
    "scrolled": true
   },
   "outputs": [],
   "source": [
    "# Import SNOTEL Excel File\n",
    "SNOTEL = pd.ExcelFile(\"/Users/Adrian/OneDrive - University of New Mexico/SNOW RESEARCH/SNOW DATA/Banded Peak Ranch/SNOTEL DATA/BPR_SNOTELs_2016-2023.xlsx\")\n",
    "cham = pd.read_excel(SNOTEL, 'Chamita')\n",
    "cumb = pd.read_excel(SNOTEL, 'LilyPond')\n",
    "lily = pd.read_excel(SNOTEL, 'CumbresTrestle')\n",
    "wolf = pd.read_excel(SNOTEL, 'WolfCreek')\n",
    "\n",
    "# Convert inches to meters\n",
    "cham_m = cham['SnowDepth[in]'] * 0.0254\n",
    "cumb_m = cumb['SnowDepth[in]'] * 0.0254\n",
    "lily_m = lily['SnowDepth[in]'] * 0.0254\n",
    "wolf_m = wolf['SnowDepth[in]'] * 0.0254\n",
    "\n",
    "Date = pd.to_datetime(cumb['Date'])\n",
    "#Date"
   ]
  },
  {
   "cell_type": "code",
   "execution_count": null,
   "metadata": {},
   "outputs": [],
   "source": [
    "fig = plt.figure(figsize = (10, 5), dpi=150)\n",
    "ax = fig.add_subplot()\n",
    "\n",
    "ax.plot(Date, lily_m)\n",
    "ax.plot(Date, cumb_m)\n",
    "ax.plot(Date, cham_m)\n",
    "ax.set_xlabel('Date')\n",
    "ax.set_ylabel('Snow Depth [m]')\n",
    "ax.xaxis.set_major_formatter(mdates.DateFormatter('%b-%y'))\n",
    "ax.set_xlim([datetime(2018, 1, 1), datetime(2022, 5, 1)])\n",
    "#ax.set_ylim(0, 2.5)\n",
    "ax.grid(linestyle=':', linewidth='0.5', color='grey')\n",
    "\n",
    "ax.set_title(\"SNOTEL Snow Depth: 2018-2022\", fontweight=\"bold\")\n",
    "\n",
    "ax.legend([ 'Lily Pond (3,374 m)', 'Cumbres Trestle (3,059 m)', 'Chamita (2,555 m)'])"
   ]
  },
  {
   "cell_type": "markdown",
   "metadata": {},
   "source": [
    "<hr>"
   ]
  },
  {
   "cell_type": "markdown",
   "metadata": {},
   "source": [
    "## Lievens S1 Snow Depth Retrievals"
   ]
  },
  {
   "cell_type": "code",
   "execution_count": null,
   "metadata": {},
   "outputs": [],
   "source": [
    "# Set File Path and Filename for netCDF files\n",
    "#path='/Users/Adrian/OneDrive - University of New Mexico/SNOW RESEARCH/SNOW DATA/Banded Peak/SND_NC/'\n",
    "path='/Users/Adrian/Desktop/LievensS1Data/S1 SanJuan Clipped Data/'\n",
    "fname='snd_20*.nc'\n",
    "\n",
    "# Set File path, Filename and CRS for shapefile and rename to 'SF'\n",
    "SFpath = '/Users/Adrian/OneDrive - University of New Mexico/SNOW RESEARCH/SNOW DATA/Banded Peak Ranch/BPR GIS/GIS FILES/Basins & Catchments/Chama Basins/'\n",
    "SFfname = 'NavajoRiver_Basin_toOsoDiv.shp'\n",
    "SF = geopandas.read_file(SFpath+SFfname, crs=\"epsg:4326\")\n",
    "\n",
    "# Create new lists\n",
    "MeanS1snd = []\n",
    "S1Date = []\n",
    "\n",
    "# Plot Mean for netCDF files\n",
    "for file in glob.glob(path+fname):\n",
    "    \n",
    "    #fig = plt.subplots(figsize = (10,6))\n",
    "    ds = xr.open_dataset(file)\n",
    "    \n",
    "    # Set CRS for dataset\n",
    "    ds.rio.write_crs('epsg:4326 ', inplace=True)\n",
    "    \n",
    "    # Search File Path for Date, Rename as 'date', Change to DD-MM-YYYY format\n",
    "    match_str = re.search(r'\\d{4}\\d{2}\\d{2}', file)\n",
    "    datetime_obj = datetime.strptime(match_str.group(), '%Y%m%d').date()\n",
    "    #date = datetime_obj.strftime('%d-%m-%Y')\n",
    "   \n",
    "    \n",
    "    # Add date to S1Date list\n",
    "    S1Date.append(datetime_obj) \n",
    "\n",
    "    \n",
    "    # Clip with Shapefile 'SF'\n",
    "    CLP = ds.rio.clip(SF.geometry.apply(mapping), SF.crs, drop=True)\n",
    "    \n",
    "    # Calculate snd Mean\n",
    "    MeanS1snd.append(np.nanmean(CLP['snd']))"
   ]
  },
  {
   "cell_type": "code",
   "execution_count": null,
   "metadata": {},
   "outputs": [],
   "source": [
    "# Create DataFrame from lists\n",
    "SnowDF = pd.DataFrame(np.column_stack([S1Date, MeanS1snd]), columns=['Date', 'MeanS1Depth'])\n",
    "SnowDF.sort_values(by='Date', ascending = True, inplace = True)\n",
    "SnowDF_nonan = SnowDF.dropna()"
   ]
  },
  {
   "cell_type": "code",
   "execution_count": null,
   "metadata": {},
   "outputs": [],
   "source": [
    "fig = plt.figure(figsize = (10, 5), dpi=150)\n",
    "ax = fig.add_subplot()\n",
    "\n",
    "ax.plot(SnowDF_nonan['Date'], SnowDF_nonan['MeanS1Depth'])\n",
    "ax.set_xlabel('Date', fontsize='medium')\n",
    "ax.set_ylabel('Snow Depth [m]')\n",
    "ax.xaxis.set_major_formatter(mdates.DateFormatter('%b-%y'))\n",
    "ax.set_xlim([datetime(2018, 1, 1), datetime(2022, 5, 1)])\n",
    "ax.set_ylim(0, 3)\n",
    "ax.grid(linestyle=':', linewidth='0.5', color='grey')\n",
    "\n",
    "ax.set_title(\"Mean S1 Snow Depth \\n Navajo River Catchment: 2018-2021 \\n Elevation: 2,400 - 3,900 m \\n (Lievens et al., 2022)\", fontweight=\"bold\")"
   ]
  },
  {
   "cell_type": "markdown",
   "metadata": {},
   "source": [
    "### Comparison of Lievens Snow Depthwith SNOTEL"
   ]
  },
  {
   "cell_type": "code",
   "execution_count": null,
   "metadata": {},
   "outputs": [],
   "source": [
    "fig = plt.figure(figsize = (10, 5), dpi=150)\n",
    "ax = fig.add_subplot()\n",
    "\n",
    "#depthmin = SnowDF_nonan['MeanS1Depth'].min()\n",
    "\n",
    "ax.plot(SnowDF_nonan['Date'], SnowDF_nonan['MeanS1Depth'], lw=3.5)\n",
    "#ax.fill_between(SnowDF_nonan['Date'], depthmin, SnowDF_nonan['MeanS1Depth'], interpolate=True, color='blue')\n",
    "ax.plot(Date, lily_m, lw=1.75, linestyle='dashed')\n",
    "ax.plot(Date, cumb_m, lw=1.75, linestyle='dashed')\n",
    "ax.plot(Date, cham_m, lw=1.75, linestyle='dashed')\n",
    "ax.set_xlabel('Date', fontsize='medium')\n",
    "ax.set_ylabel('Snow Depth [m]')\n",
    "ax.xaxis.set_major_formatter(mdates.DateFormatter('%b-%Y'))\n",
    "ax.set_xlim([datetime(2018, 1, 1), datetime(2021, 6, 1)])\n",
    "ax.set_ylim(0, 3)\n",
    "ax.grid(linestyle=':', linewidth='0.5', color='grey')\n",
    "\n",
    "ax.set_title(\"Mean S1 Snow Depth vs SNOTEL \\n Navajo River Catchment: 2018-2021 \\n Elevation: 2,400 - 3,900 m \\n (Lievens et al., 2022)\", fontweight=\"bold\")\n",
    "\n",
    "ax.legend([ 'Lievens S1 snow depth', 'Lily Pond (3,374 m)', 'Cumbres Trestle (3,059 m)', 'Chamita (2,555 m)'])"
   ]
  },
  {
   "cell_type": "markdown",
   "metadata": {},
   "source": [
    "<hr>"
   ]
  },
  {
   "cell_type": "markdown",
   "metadata": {},
   "source": [
    "## Snow Survey Analysis"
   ]
  },
  {
   "cell_type": "markdown",
   "metadata": {},
   "source": [
    "### Import Snow Survey Data"
   ]
  },
  {
   "cell_type": "code",
   "execution_count": null,
   "metadata": {},
   "outputs": [],
   "source": [
    "# Import Excel File and Excel Sheets to dataframes\n",
    "SDxlsx = pd.ExcelFile(\"/Users/Adrian/OneDrive - University of New Mexico/SNOW RESEARCH/SNOW DATA/Banded Peak Ranch/SNOW SURVEY DATA/BandedPeakData2022.xlsx\")\n",
    "tab = pd.read_excel(SDxlsx, 'BPR_TAB')\n",
    "ta2 = pd.read_excel(SDxlsx, 'BPR_TA2')\n",
    "tcd = pd.read_excel(SDxlsx, 'BPR_TCD')\n",
    "\n",
    "# Import Coordinates for depth points\n",
    "tabcoords = pd.read_excel(SDxlsx, 'BPR_TAB', usecols='A:F')\n",
    "ta2coords = pd.read_excel(SDxlsx, 'BPR_TA2', usecols='A:F')\n",
    "tcdcoords = pd.read_excel(SDxlsx, 'BPR_TCD', usecols='A:F')\n",
    "\n",
    "# Import Depth Points\n",
    "SDtab = tab.drop(columns=[\"DepthPointID\", \"Lat\", \"Long\", \"UTME\", \"UTMN\", \"UTMZone\"])\n",
    "SDta2 = ta2.drop(columns=[\"DepthPointID\", \"Lat\", \"Long\", \"UTME\", \"UTMN\", \"UTMZone\"])\n",
    "SDtcd = tcd.drop(columns=[\"DepthPointID\", \"Lat\", \"Long\", \"UTME\", \"UTMN\", \"UTMZone\"])\n",
    "\n",
    "# Convert columns to datetime\n",
    "SDtab.columns = pd.to_datetime(SDtab.columns)\n",
    "SDta2.columns = pd.to_datetime(SDta2.columns)\n",
    "SDtcd.columns = pd.to_datetime(SDtcd.columns)\n",
    "\n",
    "# Import Transect Dates\n",
    "TDates = list(SDtab.columns.values)\n",
    "\n",
    "#df = pd.DataFrame(employees, columns =['Name', 'Age', 'City', 'Salary'])\n",
    "#df.columns = pd.MultiIndex.from_tuples([('When', 'Date'), ('When', 'Time'), ('Country', 'USA'), ('Country', 'Canada'), ('Channel', 'SD'), ('Channel', 'HD')])\n",
    "\n",
    "# Import Snow Pit Data\n",
    "SP1 = pd.read_excel(SDxlsx, 'BPR_SP1')\n",
    "SP1_Dates = SP1.drop_duplicates('Date')\n",
    "SP1_Dates = SP1_Dates['Date'].values[0:]\n",
    "\n",
    "SP2 = pd.read_excel(SDxlsx, 'BPR_SP2')\n",
    "SP2_Dates = SP2.drop_duplicates('Date')\n",
    "SP2_Dates = SP2_Dates['Date'].values[0:]\n",
    "\n",
    "# Get 'shape' of Dataframes\n",
    "shape_SDtab = SDtab.shape\n",
    "shape_SDta2 = SDta2.shape\n",
    "shape_SDtcd = SDtcd.shape\n",
    "shape_SP1 = SP1_Dates.shape\n",
    "shape_SP2 = SP2_Dates.shape\n",
    "\n",
    "# Print Number of columns\n",
    "print('Number of Transect TAB dates:', shape_SDtab[1])\n",
    "print('Number of Transect TA2 dates:', shape_SDta2[1])\n",
    "print('Number of Transect TCD dates:', shape_SDtcd[1])\n",
    "\n",
    "print('Number of Snow Pit SP1 dates:', shape_SP1[0])\n",
    "print('Number of Snow Pit SP3 dates:', shape_SP2[0])"
   ]
  },
  {
   "cell_type": "markdown",
   "metadata": {},
   "source": [
    "### Survey Data Summary"
   ]
  },
  {
   "cell_type": "code",
   "execution_count": null,
   "metadata": {},
   "outputs": [],
   "source": [
    "# Average Snow Depth\n",
    "SDtabmean = np.nanmean(SDtab, axis=0)/100\n",
    "SDta2mean = np.nanmean(SDta2, axis=0)/100\n",
    "SDtcdmean = np.nanmean(SDtcd, axis=0)/100\n",
    "\n",
    "SDallT = pd.concat([SDtab,SDta2,SDtcd])\n",
    "SDallT = SDallT.reset_index(drop=True)\n",
    "#df_cd = pd.merge(df_SN7577i_c, df_SN7577i_d, how='inner', left_on = 'Id', right_on = 'Id')\n",
    "SDMean = np.nanmean(SDallT, axis=0)/100\n",
    "\n",
    "# Dataframe of mean snow depths for both transects and total mean depth\n",
    "MeanDepths = pd.DataFrame({'TAB Mean': SDtabmean, 'TA2 Mean': SDta2mean, 'TCD Mean': SDtcdmean, 'Mean Snow Depth': SDMean})\n",
    "\n",
    "# Max, Min, & Avg Depths\n",
    "MaxD = SDallT.max()/100\n",
    "MinD = SDallT.min()/100\n",
    "\n",
    "# Dataframe with max, mins, mean snow depths and dates\n",
    "MeanMaxMinDepths = pd.DataFrame({'Mean Snow Depth [m]': SDMean, 'Max Snow Depth [m]': MaxD, 'Min Snow Depth [m]': MinD})\n",
    "\n",
    "AnnMaxD = MaxD.max()\n",
    "AnnMinD = MinD.min()\n",
    "AnnMeanD = np.nanmean(SDMean)\n",
    "\n",
    "#df = pd.DataFrame({'A': a, 'B': b}, index=[0])\n",
    "AnnMaxMinMean = pd.DataFrame({'Annual Max': AnnMaxD, 'Annual Min': AnnMinD, 'Annual Mean':AnnMeanD}, index=['Snow Depth [m]'])\n",
    "\n",
    "MeanMaxMinDepths"
   ]
  },
  {
   "cell_type": "code",
   "execution_count": null,
   "metadata": {},
   "outputs": [],
   "source": [
    "AnnMaxMinMean"
   ]
  },
  {
   "cell_type": "markdown",
   "metadata": {},
   "source": [
    "## Plot Snow Survey Data"
   ]
  },
  {
   "cell_type": "code",
   "execution_count": null,
   "metadata": {
    "scrolled": true
   },
   "outputs": [],
   "source": [
    "fig = plt.figure(figsize = (6, 3), dpi=100)\n",
    "ax = fig.add_subplot()\n",
    "\n",
    "ax.plot(TDates, MaxD, color=\"green\")\n",
    "ax.plot(TDates, SDMean, color=\"blue\")\n",
    "ax.plot(TDates, MinD, color=\"red\")\n",
    "ax.set_xlabel('Date')\n",
    "ax.set_ylabel('Snow Depth [m]')\n",
    "ax.xaxis.set_major_formatter(mdates.DateFormatter('%b-%d'))\n",
    "ax.set_xlim([datetime(2022, 1, 15), datetime(2022, 4, 6)])\n",
    "ax.set_ylim(0, 3)\n",
    "ax.grid(linestyle=':', linewidth='0.5', color='grey')\n",
    "\n",
    "ax.set_title(\"Snow Survey Depth \\n Banded Peak Ranch, 2022 \\n Elevation: 2,400 - 2,600 m\", fontweight=\"bold\")\n",
    "\n",
    "ax.legend(['Max', 'Mean', 'Min'])"
   ]
  },
  {
   "cell_type": "code",
   "execution_count": null,
   "metadata": {},
   "outputs": [],
   "source": [
    "fig = plt.figure(figsize = (6, 3), dpi=100)\n",
    "ax = fig.add_subplot()\n",
    "\n",
    "ax.plot(Date, cham_m, lw=1.75, color=\"orange\", linestyle='dotted')\n",
    "ax.plot(TDates, MaxD, color=\"green\", linestyle='dashed')\n",
    "ax.plot(TDates, SDMean, color=\"blue\")\n",
    "ax.plot(TDates, MinD, color=\"red\", linestyle='dashed')\n",
    "ax.set_xlabel('Date')\n",
    "ax.set_ylabel('Snow Depth [m]')\n",
    "ax.xaxis.set_major_formatter(mdates.DateFormatter('%b-%d'))\n",
    "ax.set_xlim([datetime(2022, 1, 15), datetime(2022, 4, 6)])\n",
    "ax.set_ylim(0, 3)\n",
    "ax.grid(linestyle=':', linewidth='0.5', color='grey')\n",
    "\n",
    "ax.set_title(\"Survey Depth, SNOTEL, Lievens S1 \\n Banded Peak Ranch, 2022 \\n Elevation: 2,400 - 2,600 m\", fontweight=\"bold\")\n",
    "\n",
    "ax.legend(['Chamita SNOTEL (2,555 m)', 'Max Snow Depth', 'Mean Snow Depth', 'Min Snow Depth'])"
   ]
  },
  {
   "cell_type": "markdown",
   "metadata": {},
   "source": [
    "<hr>"
   ]
  },
  {
   "cell_type": "markdown",
   "metadata": {},
   "source": [
    "### Plot Survey Data on Map/Image"
   ]
  },
  {
   "cell_type": "code",
   "execution_count": null,
   "metadata": {},
   "outputs": [],
   "source": [
    "# Plot Julie's Meadow Site\n",
    "\n",
    "plt.figure(figsize=(12, 6), dpi=150)\n",
    "\n",
    "plt.plot(SDtab['UTME'], SDtab['UTMN'], color='black', linewidth=1)\n",
    "plt.plot(SDta2['UTME'], SDta2['UTMN'], color='black', linewidth=1)\n",
    "\n",
    "plt.scatter(SDtab['UTME'], SDtab['UTMN'], c=(SDtab['02/15/2022']/100), s=10, cmap='bwr')\n",
    "#plt.plot(SDtab['UTME'], SDtab['UTMN'], linestyle=\"\", marker=\"o\", color='deepskyblue', markersize=3)\n",
    "\n",
    "plt.scatter(SDta2['UTME'], SDta2['UTMN'], c=(SDta2['02/15/2022']/100), s=10, cmap='bwr')\n",
    "#plt.plot(SDta2['UTME'], SDta2['UTMN'], linestyle=\"\", marker=\"o\", color='dodgerblue', markersize=3)\n",
    "\n",
    "#BPRjmpoly_wm = BPRjmpoly.to_crs(epsg=32633)\n",
    "BPRjmpoly_wm.plot(figsize=(6, 12), alpha=0.5, edgecolor='k')"
   ]
  },
  {
   "cell_type": "code",
   "execution_count": null,
   "metadata": {},
   "outputs": [],
   "source": [
    "JMpoly = gpd.read_file(\"/Users/Adrian/OneDrive - University of New Mexico/SNOW RESEARCH/BANDED PEAK (BOR) Project/BPR GIS/Tim's Shapefiles/mygeodata (8)/forest_treatments_2015-polygon.shp\")\n",
    "#ax = JMpoly.plot(figsize=(10, 10), alpha=0.5, edgecolor='k')\n",
    "\n",
    "#JMpoly.crs\n",
    "JMPoly_wm = JMpoly.to_crs(epsg=3857)\n",
    "\n",
    "ax = JMPoly_wm.plot(figsize=(10, 10), alpha=0.5, edgecolor='k')\n",
    "#cx.add_basemap(JMPoly_wm.plot())\n",
    "               #figsize=(10, 10), alpha=0.5, edgecolor='k')"
   ]
  },
  {
   "cell_type": "code",
   "execution_count": null,
   "metadata": {},
   "outputs": [],
   "source": [
    "# Plot 351 Site\n",
    "\n",
    "plt.figure(figsize=(12, 6), dpi=150)\n",
    "\n",
    "plt.plot(SDtcd['UTME'], SDtcd['UTMN'], color='black', linewidth=1)\n",
    "\n",
    "plt.scatter(SDtcd['UTME'], SDtcd['UTMN'], c=(SDtcd['02/15/2022']/100), s=10, cmap='bwr')\n",
    "#plt.plot(SDtcd['UTME'], SDtcd['UTMN'], linestyle=\"\", marker=\"o\", color='turquoise', markersize=3)"
   ]
  }
 ],
 "metadata": {
  "kernelspec": {
   "display_name": "Python 3 (ipykernel)",
   "language": "python",
   "name": "python3"
  },
  "language_info": {
   "codemirror_mode": {
    "name": "ipython",
    "version": 3
   },
   "file_extension": ".py",
   "mimetype": "text/x-python",
   "name": "python",
   "nbconvert_exporter": "python",
   "pygments_lexer": "ipython3",
   "version": "3.9.15"
  }
 },
 "nbformat": 4,
 "nbformat_minor": 4
}
