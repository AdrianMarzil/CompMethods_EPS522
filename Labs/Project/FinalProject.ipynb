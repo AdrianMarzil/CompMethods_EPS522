{
 "cells": [
  {
   "cell_type": "markdown",
   "id": "e49fac6e-d4d3-47e0-81ad-7dfe3e21e573",
   "metadata": {},
   "source": []
  },
  {
   "cell_type": "markdown",
   "id": "736445fa-37a2-4acc-a817-e96a5a713c20",
   "metadata": {
    "user_expressions": []
   },
   "source": [
    "### Comparing Remote Sensing Snow Depth at the Catchment and Sub-Catchment Scale"
   ]
  },
  {
   "cell_type": "code",
   "execution_count": null,
   "id": "b4902716-79df-407a-bd39-898268973bc4",
   "metadata": {},
   "outputs": [],
   "source": [
    "# Import Libraries\n",
    "\n"
   ]
  },
  {
   "cell_type": "markdown",
   "id": "309dcfaf-ea00-4004-b9a2-68f611fcb09e",
   "metadata": {
    "user_expressions": []
   },
   "source": [
    "Import Shapefiles"
   ]
  },
  {
   "cell_type": "code",
   "execution_count": null,
   "id": "c915b13a-f327-40f7-b720-c32ce0e7428c",
   "metadata": {},
   "outputs": [],
   "source": [
    "# Import Navajo Catchment Shapefiles\n",
    "fpath = '/Users/amarziliano/OneDrive - University of New Mexico/SNOW RESEARCH/SNOW DATA/Banded Peak Ranch/BPR GIS/GIS FILES/Basins & Catchments/Chama Basins/'\n",
    "Nav_Catch = geopandas.read_file(fpath + 'NavajoRiver_Basin_toOsoDiv.shp', crs=\"epsg:4326\")\n",
    "\n",
    "# Import Site Area Shapefiles\n",
    "fpath = '/Users/amarziliano/OneDrive - University of New Mexico/SNOW RESEARCH/SNOW DATA/Banded Peak Ranch/BPR GIS/GIS FILES/Survey Measurement Locations/SurveyAreaBoxes/'\n",
    "Blind351 = geopandas.read_file(fpath + 'Blind351Box.shp', crs=\"epsg:4326\")\n",
    "Julies = geopandas.read_file(fpath + 'JuliesMeadowBox.shp', crs=\"epsg:4326\")\n",
    "NewMeadow = geopandas.read_file(fpath + 'NewMeadowBox.shp', crs=\"epsg:4326\")\n",
    "\n",
    "# Import SubPlot Shapefiles\n",
    "#fpath = '/Users/amarziliano/OneDrive - University of New Mexico/SNOW RESEARCH/SNOW DATA/Banded Peak Ranch/BPR GIS/GIS FILES/Survey Measurement Locations/SurveyAreaBoxes/'\n",
    "# TAB_1\n",
    "# TAB_2\n",
    "# TAB_3\n",
    "# TAB_4\n"
   ]
  },
  {
   "cell_type": "markdown",
   "id": "7c80907c-2853-4a86-84e3-399cd90da938",
   "metadata": {
    "user_expressions": []
   },
   "source": [
    "Import SNOTEL Data"
   ]
  },
  {
   "cell_type": "code",
   "execution_count": null,
   "id": "584126ea-bc9f-44c4-8dbc-77bb2a65d291",
   "metadata": {},
   "outputs": [],
   "source": [
    "# Import SNOTEL Excel File\n",
    "SNOTEL = pd.ExcelFile(\"/Users/Adrian/OneDrive - University of New Mexico/SNOW RESEARCH/SNOW DATA/Banded Peak Ranch/SNOTEL DATA/BPR_SNOTELs_2016-2023.xlsx\")\n",
    "cham = pd.read_excel(SNOTEL, 'Chamita')\n",
    "cumb = pd.read_excel(SNOTEL, 'LilyPond')\n",
    "lily = pd.read_excel(SNOTEL, 'CumbresTrestle')\n",
    "wolf = pd.read_excel(SNOTEL, 'WolfCreek')\n",
    "\n",
    "# Convert inches to meters\n",
    "cham_m = cham['SnowDepth[in]'] * 0.0254\n",
    "cumb_m = cumb['SnowDepth[in]'] * 0.0254\n",
    "lily_m = lily['SnowDepth[in]'] * 0.0254\n",
    "wolf_m = wolf['SnowDepth[in]'] * 0.0254\n",
    "\n",
    "# Date\n",
    "SNOTEL_Date = pd.to_datetime(cumb['Date'])"
   ]
  },
  {
   "cell_type": "markdown",
   "id": "87f5653b-b7ca-4883-8f30-c0f8716aebee",
   "metadata": {
    "user_expressions": []
   },
   "source": [
    "Import 2022 Snow Survey Data"
   ]
  },
  {
   "cell_type": "code",
   "execution_count": null,
   "id": "d17e7a44-48ba-4dab-a83c-ffa3439ce746",
   "metadata": {},
   "outputs": [],
   "source": [
    "# Import 2022 Data\n",
    "# Import Excel File and Excel Sheets to dataframes\n",
    "SDxlsx = pd.ExcelFile(\"/Users/Adrian/OneDrive - University of New Mexico/SNOW RESEARCH/SNOW DATA/Banded Peak Ranch/SNOW SURVEY DATA/BandedPeakData2022.xlsx\")\n",
    "tab = pd.read_excel(SDxlsx, 'BPR_TAB')\n",
    "ta2 = pd.read_excel(SDxlsx, 'BPR_TA2')\n",
    "tcd = pd.read_excel(SDxlsx, 'BPR_TCD')\n",
    "\n",
    "# Import Coordinates for depth points\n",
    "tabcoords = pd.read_excel(SDxlsx, 'BPR_TAB', usecols='A:F')\n",
    "ta2coords = pd.read_excel(SDxlsx, 'BPR_TA2', usecols='A:F')\n",
    "tcdcoords = pd.read_excel(SDxlsx, 'BPR_TCD', usecols='A:F')\n",
    "\n",
    "# Import Depth Points\n",
    "SDtab = tab.drop(columns=[\"DepthPointID\", \"Lat\", \"Long\", \"UTME\", \"UTMN\", \"UTMZone\"])\n",
    "SDta2 = ta2.drop(columns=[\"DepthPointID\", \"Lat\", \"Long\", \"UTME\", \"UTMN\", \"UTMZone\"])\n",
    "SDtcd = tcd.drop(columns=[\"DepthPointID\", \"Lat\", \"Long\", \"UTME\", \"UTMN\", \"UTMZone\"])\n",
    "\n",
    "# Convert columns to datetime\n",
    "SDtab.columns = pd.to_datetime(SDtab.columns)\n",
    "SDta2.columns = pd.to_datetime(SDta2.columns)\n",
    "SDtcd.columns = pd.to_datetime(SDtcd.columns)\n",
    "\n",
    "# Import Transect Dates\n",
    "TDates = list(SDtab.columns.values)\n",
    "\n",
    "#df = pd.DataFrame(employees, columns =['Name', 'Age', 'City', 'Salary'])\n",
    "#df.columns = pd.MultiIndex.from_tuples([('When', 'Date'), ('When', 'Time'), ('Country', 'USA'), ('Country', 'Canada'), ('Channel', 'SD'), ('Channel', 'HD')])\n",
    "\n",
    "# Import Snow Pit Data\n",
    "SP1 = pd.read_excel(SDxlsx, 'BPR_SP1')\n",
    "SP1_Dates = SP1.drop_duplicates('Date')\n",
    "SP1_Dates = SP1_Dates['Date'].values[0:]\n",
    "\n",
    "SP2 = pd.read_excel(SDxlsx, 'BPR_SP2')\n",
    "SP2_Dates = SP2.drop_duplicates('Date')\n",
    "SP2_Dates = SP2_Dates['Date'].values[0:]\n",
    "\n",
    "# Get 'shape' of Dataframes\n",
    "shape_SDtab = SDtab.shape\n",
    "shape_SDta2 = SDta2.shape\n",
    "shape_SDtcd = SDtcd.shape\n",
    "shape_SP1 = SP1_Dates.shape\n",
    "shape_SP2 = SP2_Dates.shape\n",
    "\n",
    "# Print Number of columns\n",
    "print('Number of Transect TAB dates:', shape_SDtab[1])\n",
    "print('Number of Transect TA2 dates:', shape_SDta2[1])\n",
    "print('Number of Transect TCD dates:', shape_SDtcd[1])\n",
    "\n",
    "print('Number of Snow Pit SP1 dates:', shape_SP1[0])\n",
    "print('Number of Snow Pit SP3 dates:', shape_SP2[0])"
   ]
  },
  {
   "cell_type": "markdown",
   "id": "8b379c5b-f2f4-4ddb-a293-c5f7b8b5114d",
   "metadata": {
    "user_expressions": []
   },
   "source": [
    "#### Extract April 6, 2022 survey data for comparison with VHR and S1"
   ]
  },
  {
   "cell_type": "code",
   "execution_count": null,
   "id": "7bb8a5ae-6d5b-468a-9cbc-b2e3209b6486",
   "metadata": {},
   "outputs": [],
   "source": []
  },
  {
   "cell_type": "markdown",
   "id": "0e87afee-7469-492c-abb6-aa869383b68a",
   "metadata": {
    "user_expressions": []
   },
   "source": [
    "#### Import S1 Snow Depth"
   ]
  },
  {
   "cell_type": "code",
   "execution_count": null,
   "id": "3ebd9d14-1bcc-430b-87b9-8451f365ed5d",
   "metadata": {},
   "outputs": [],
   "source": [
    "# Import 2022 S1 Snow Depth (SpicySnow)\n",
    "# Set file path, filename for NetCDF file\n",
    "path='/Users/Adrian/Desktop/SpicySnow Data/'\n",
    "fname='BPR_snd2023.nc'\n",
    "\n",
    "S1_sd = xr.open_dataset(path+fname)\n",
    "\n",
    "# Extract April Date to Compare with VHR snow depth\n",
    "\n",
    "\n",
    "# Clip April S1 snow depth to Navajo Catchment\n"
   ]
  },
  {
   "cell_type": "markdown",
   "id": "c6e3343e-09f5-4498-b9d6-8d485f07a6c9",
   "metadata": {
    "user_expressions": []
   },
   "source": [
    "#### Import VHR Photogrammetry Snow Depth\n",
    "<br>(April 9, 2022)\n",
    "<br>Resampled from 3m to 90m\n",
    "<br>Clipped to Navajo Catchment"
   ]
  },
  {
   "cell_type": "code",
   "execution_count": null,
   "id": "8afd7334-a04d-48e6-be06-8421125f2535",
   "metadata": {},
   "outputs": [],
   "source": [
    "# Import VHR Snow Depth\n",
    "\n",
    "#VHR_sd = \n"
   ]
  },
  {
   "cell_type": "markdown",
   "id": "1db6dc55-0570-4d74-b4c7-60a9e23319b1",
   "metadata": {
    "user_expressions": []
   },
   "source": [
    "Compare VHR Snow Depth to S1 Snow Depth"
   ]
  },
  {
   "cell_type": "code",
   "execution_count": null,
   "id": "0cadd51a-75a2-4075-b245-44a833fbe364",
   "metadata": {},
   "outputs": [],
   "source": []
  },
  {
   "cell_type": "markdown",
   "id": "95d01309-b6b6-44ec-b96d-cb1b76a40b80",
   "metadata": {
    "user_expressions": []
   },
   "source": [
    "Compare VHR and S1 snow depth with survey snow depth"
   ]
  },
  {
   "cell_type": "code",
   "execution_count": null,
   "id": "c9b57f2f-0aef-4d72-9d62-a7ae3b16635e",
   "metadata": {},
   "outputs": [],
   "source": []
  }
 ],
 "metadata": {
  "kernelspec": {
   "display_name": "Python 3 (ipykernel)",
   "language": "python",
   "name": "python3"
  },
  "language_info": {
   "codemirror_mode": {
    "name": "ipython",
    "version": 3
   },
   "file_extension": ".py",
   "mimetype": "text/x-python",
   "name": "python",
   "nbconvert_exporter": "python",
   "pygments_lexer": "ipython3",
   "version": "3.10.12"
  }
 },
 "nbformat": 4,
 "nbformat_minor": 5
}
