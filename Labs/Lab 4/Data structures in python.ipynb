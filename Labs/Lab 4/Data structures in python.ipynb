{
 "cells": [
  {
   "cell_type": "markdown",
   "id": "490a3cae-b218-4c23-bbfc-a51feb6b174e",
   "metadata": {},
   "source": [
    "# Notes on data structures in python\n",
    "#### Computational Methods for Geoscience - EPS 400/522\n",
    "#### Instructor: Eric Lindsey\n",
    "\n",
    "---------"
   ]
  },
  {
   "cell_type": "markdown",
   "id": "6ef99f3a-05cc-474e-a696-12832e7ecd5d",
   "metadata": {},
   "source": [
    "## Lists"
   ]
  },
  {
   "cell_type": "code",
   "execution_count": 1,
   "id": "6fb60776-fa53-4279-9c83-bf09bf3c08ed",
   "metadata": {},
   "outputs": [
    {
     "name": "stdout",
     "output_type": "stream",
     "text": [
      "List a: [3, 6, 11, 15]\n",
      "Second element: 6\n"
     ]
    }
   ],
   "source": [
    "# Define a list of integers\n",
    "# For example, this could represent a sequence of measurements.\n",
    "a = [3, 6, 11, 15]\n",
    "print(\"List a:\", a)\n",
    "\n",
    "# Accessing individual values from the list\n",
    "# Remember, indexing starts from 0 in Python.\n",
    "# Here, we print the second element from the list.\n",
    "print(\"Second element:\", a[1])\n"
   ]
  },
  {
   "cell_type": "code",
   "execution_count": 2,
   "id": "4a254065-ad7d-4d7c-9c96-a4a12d0fe200",
   "metadata": {},
   "outputs": [
    {
     "name": "stdout",
     "output_type": "stream",
     "text": [
      "List after changing last value to zero: [3, 6, 11, 0]\n"
     ]
    }
   ],
   "source": [
    "# Modify values in the list\n",
    "# For example, if the last measurement (15) was an error, you can set it to zero.\n",
    "a[3] = 0\n",
    "print(\"List after changing last value to zero:\", a)\n"
   ]
  },
  {
   "cell_type": "code",
   "execution_count": 3,
   "id": "e2600e77-92db-4bec-af06-6132ab53cf12",
   "metadata": {},
   "outputs": [
    {
     "name": "stdout",
     "output_type": "stream",
     "text": [
      "List after appending a new value: [3, 6, 11, 0, 4]\n"
     ]
    }
   ],
   "source": [
    "# Append a new value to the list\n",
    "# Useful for when new data becomes available.\n",
    "# Here we add the integer 4 to the end of the list.\n",
    "a.append(4)\n",
    "print(\"List after appending a new value:\", a)\n"
   ]
  },
  {
   "cell_type": "code",
   "execution_count": 4,
   "id": "d73ec5f7-a2e9-4b3f-8af8-6236ca8eb5e7",
   "metadata": {},
   "outputs": [
    {
     "name": "stdout",
     "output_type": "stream",
     "text": [
      "Subset of the list: [6, 11]\n"
     ]
    }
   ],
   "source": [
    "# Extract a subset of the list using slicing\n",
    "# This can be helpful for analyzing or plotting a portion of the data.\n",
    "# The syntax is [start_index:end_index] and it will extract the elements from start_index to end_index - 1.\n",
    "# For example, a[1:3] will return a list containing a[1] and a[2].\n",
    "subset = a[1:3]\n",
    "print(\"Subset of the list:\", subset)\n"
   ]
  },
  {
   "cell_type": "code",
   "execution_count": 5,
   "id": "c0df2404-dd36-4975-9dc5-73b1da6a409d",
   "metadata": {},
   "outputs": [
    {
     "name": "stdout",
     "output_type": "stream",
     "text": [
      "Subset with step: [3, 11]\n"
     ]
    }
   ],
   "source": [
    "# You can also skip elements by adding a 'step' value in slice [start:end:step]\n",
    "# Here we take every second element from the list.\n",
    "subset_with_step = a[0:4:2]\n",
    "print(\"Subset with step:\", subset_with_step)\n"
   ]
  },
  {
   "cell_type": "code",
   "execution_count": 6,
   "id": "03df5558-7a2f-4e2c-a9a3-3978bb0998b5",
   "metadata": {},
   "outputs": [
    {
     "name": "stdout",
     "output_type": "stream",
     "text": [
      "Concatenated list: [3, 6, 11, 0, 4, 5, 7, 9]\n"
     ]
    }
   ],
   "source": [
    "# Concatenating two lists\n",
    "# Useful for combining data sets. \n",
    "b = [5, 7, 9]\n",
    "c = a + b\n",
    "print(\"Concatenated list:\", c)\n"
   ]
  },
  {
   "cell_type": "code",
   "execution_count": 7,
   "id": "0e0557e8-d6f1-4901-bfcb-e527baa55a3f",
   "metadata": {},
   "outputs": [
    {
     "name": "stdout",
     "output_type": "stream",
     "text": [
      "Length of the list: 5\n"
     ]
    }
   ],
   "source": [
    "# Finding the length of a list\n",
    "# This could help you know how many data points you have.\n",
    "length_of_list = len(a)\n",
    "print(\"Length of the list:\", length_of_list)\n"
   ]
  },
  {
   "cell_type": "code",
   "execution_count": 8,
   "id": "b8914391-4c7d-4b86-b3fc-aa19ce0fed75",
   "metadata": {},
   "outputs": [
    {
     "name": "stdout",
     "output_type": "stream",
     "text": [
      "Sum of all elements: 24\n"
     ]
    }
   ],
   "source": [
    "# Summing up all elements in the list\n",
    "# Useful for calculating statistics like mean.\n",
    "sum_of_elements = sum(a)\n",
    "print(\"Sum of all elements:\", sum_of_elements)\n"
   ]
  },
  {
   "cell_type": "code",
   "execution_count": 9,
   "id": "466eb9fe-aec8-4eed-ba6d-c7dcaa17122f",
   "metadata": {},
   "outputs": [
    {
     "name": "stdout",
     "output_type": "stream",
     "text": [
      "The value 11 is found at position 2 in a\n"
     ]
    }
   ],
   "source": [
    "# Find the location of a particular value in the list\n",
    "target = 11\n",
    "iloc = a.index(target)\n",
    "print(f\"The value {target} is found at position {iloc} in a\")\n",
    "\n",
    "# question: what happens if the target value is not in the list?"
   ]
  },
  {
   "cell_type": "code",
   "execution_count": 10,
   "id": "fe40788d-8b53-4c54-83f6-caade64028cf",
   "metadata": {},
   "outputs": [
    {
     "name": "stdout",
     "output_type": "stream",
     "text": [
      "Min value: 0, Max value: 11\n"
     ]
    }
   ],
   "source": [
    "# You can also use min() and max() to find the smallest and largest values, respectively.\n",
    "min_value = min(a)\n",
    "max_value = max(a)\n",
    "print(f\"Min value: {min_value}, Max value: {max_value}\")\n"
   ]
  },
  {
   "cell_type": "code",
   "execution_count": 11,
   "id": "d5b7139e-ea81-45e0-b83c-3b26a8d1f2f9",
   "metadata": {},
   "outputs": [
    {
     "name": "stdout",
     "output_type": "stream",
     "text": [
      "List a: [3, 6, 11, 0, 4]\n",
      "Squared values: [9, 36, 121, 0, 16]\n"
     ]
    }
   ],
   "source": [
    "# Using list comprehensions for data manipulation\n",
    "# For example, to square each element in the list.\n",
    "print(\"List a:\", a)\n",
    "\n",
    "squared_values = [x**2 for x in a]\n",
    "print(\"Squared values:\", squared_values)\n"
   ]
  },
  {
   "cell_type": "code",
   "execution_count": 12,
   "id": "ab72ff06-0128-4f1e-8947-d6887ac19b84",
   "metadata": {},
   "outputs": [
    {
     "name": "stdout",
     "output_type": "stream",
     "text": [
      "Filtered values (greater than 5): [6, 11]\n"
     ]
    }
   ],
   "source": [
    "# Using list comprehensions with conditionals\n",
    "# For example, to keep only elements that are greater than 5.\n",
    "filtered_values = [x for x in a if x > 5]\n",
    "print(\"Filtered values (greater than 5):\", filtered_values)\n"
   ]
  },
  {
   "cell_type": "code",
   "execution_count": 13,
   "id": "61f74f60-59a0-4531-8a6c-c87b50253e57",
   "metadata": {},
   "outputs": [
    {
     "name": "stdout",
     "output_type": "stream",
     "text": [
      "Mixed data types: [1, 'a', 3.5]\n"
     ]
    }
   ],
   "source": [
    "# List can also contain mixed data types, although this is less common in numerical computations\n",
    "mixed_list = [1, \"a\", 3.5]\n",
    "print(\"Mixed data types:\", mixed_list)\n"
   ]
  },
  {
   "cell_type": "code",
   "execution_count": 14,
   "id": "812a5ef1-098b-4082-968c-75a13fca3e75",
   "metadata": {},
   "outputs": [
    {
     "name": "stdout",
     "output_type": "stream",
     "text": [
      "Nested list: [[1, 2, 3], [4, 5, 6], [7, 8, 9]]\n"
     ]
    }
   ],
   "source": [
    "# Lists can be nested, which can be useful for multi-dimensional data (like 2D grids in geospatial analysis)\n",
    "nested_list = [[1, 2, 3], [4, 5, 6], [7, 8, 9]]\n",
    "print(\"Nested list:\", nested_list)\n"
   ]
  },
  {
   "cell_type": "markdown",
   "id": "d0eacb90-2428-4593-b3e7-612cec012f8f",
   "metadata": {},
   "source": [
    "## Tuples\n",
    "\n",
    "Tuples are similar to lists in many ways but are immutable, meaning you can't change their elements once they're created. This can be useful for data that should not be modified. "
   ]
  },
  {
   "cell_type": "code",
   "execution_count": 15,
   "id": "b0a981ba-5718-4bf7-8b40-0ddcb8c3cf1b",
   "metadata": {},
   "outputs": [
    {
     "name": "stdout",
     "output_type": "stream",
     "text": [
      "Coordinates: (40.7128, -74.006)\n",
      "Latitude: 40.7128\n",
      "Longitude: -74.006\n"
     ]
    }
   ],
   "source": [
    "# Define a tuple\n",
    "# For example, this could represent the latitude and longitude of a location.\n",
    "coordinates = (40.7128, -74.0060)\n",
    "print(\"Coordinates:\", coordinates)\n",
    "\n",
    "# Access values in a tuple\n",
    "# Just like lists, tuples are zero-indexed.\n",
    "print(\"Latitude:\", coordinates[0])\n",
    "print(\"Longitude:\", coordinates[1])\n"
   ]
  },
  {
   "cell_type": "code",
   "execution_count": 16,
   "id": "afb25f0d-0709-44b8-b16d-7eb4733362ce",
   "metadata": {},
   "outputs": [
    {
     "ename": "TypeError",
     "evalue": "'tuple' object does not support item assignment",
     "output_type": "error",
     "traceback": [
      "\u001b[0;31m---------------------------------------------------------------------------\u001b[0m",
      "\u001b[0;31mTypeError\u001b[0m                                 Traceback (most recent call last)",
      "Cell \u001b[0;32mIn[16], line 2\u001b[0m\n\u001b[1;32m      1\u001b[0m \u001b[38;5;66;03m# Trying to modify a tuple will result in an error, because tuples are immutable\u001b[39;00m\n\u001b[0;32m----> 2\u001b[0m \u001b[43mcoordinates\u001b[49m\u001b[43m[\u001b[49m\u001b[38;5;241;43m0\u001b[39;49m\u001b[43m]\u001b[49m \u001b[38;5;241m=\u001b[39m \u001b[38;5;241m41.0\u001b[39m\n",
      "\u001b[0;31mTypeError\u001b[0m: 'tuple' object does not support item assignment"
     ]
    }
   ],
   "source": [
    "# Trying to modify a tuple will result in an error, because tuples are immutable\n",
    "coordinates[0] = 41.0\n"
   ]
  },
  {
   "cell_type": "code",
   "execution_count": 17,
   "id": "584cd8d1-9ff2-438a-9de4-1e7bfba28962",
   "metadata": {},
   "outputs": [
    {
     "name": "stdout",
     "output_type": "stream",
     "text": [
      "All coordinates: (40.7128, -74.006, 41.8902, 12.4924)\n"
     ]
    }
   ],
   "source": [
    "# You can concatenate tuples\n",
    "# Useful for extending data sets that should remain immutable.\n",
    "more_coordinates = (41.8902, 12.4924)\n",
    "all_coordinates = coordinates + more_coordinates\n",
    "print(\"All coordinates:\", all_coordinates)\n"
   ]
  },
  {
   "cell_type": "code",
   "execution_count": 18,
   "id": "f9e4983e-dceb-46fb-86dd-c99c37ebf494",
   "metadata": {},
   "outputs": [
    {
     "name": "stdout",
     "output_type": "stream",
     "text": [
      "Length of coordinates tuple: 2\n"
     ]
    }
   ],
   "source": [
    "# Length of a tuple\n",
    "# This could help you know how many data points you have.\n",
    "print(\"Length of coordinates tuple:\", len(coordinates))\n"
   ]
  },
  {
   "cell_type": "code",
   "execution_count": 19,
   "id": "921a3030-45ce-488c-a26f-1d8fd00728d2",
   "metadata": {},
   "outputs": [
    {
     "name": "stdout",
     "output_type": "stream",
     "text": [
      "Min coordinate: -74.006, Max coordinate: 40.7128\n"
     ]
    }
   ],
   "source": [
    "# Minimum and maximum values in a tuple\n",
    "# Useful for identifying range in data.\n",
    "print(f\"Min coordinate: {min(coordinates)}, Max coordinate: {max(coordinates)}\")\n"
   ]
  },
  {
   "cell_type": "code",
   "execution_count": 20,
   "id": "3ac48f6e-f19a-4d44-bfe4-17a89b682679",
   "metadata": {},
   "outputs": [
    {
     "name": "stdout",
     "output_type": "stream",
     "text": [
      "Coordinates: (40.7128, -74.006)\n",
      "Unpacked: Latitude: 40.7128, Longitude: -74.006\n"
     ]
    }
   ],
   "source": [
    "# Unpacking a tuple\n",
    "# This is particularly useful when a function returns multiple values packed in a tuple.\n",
    "coordinates = (40.7128, -74.0060)\n",
    "print(\"Coordinates:\", coordinates)\n",
    "\n",
    "# now unpack the tuple\n",
    "lat, lon = coordinates\n",
    "print(f\"Unpacked: Latitude: {lat}, Longitude: {lon}\")\n"
   ]
  },
  {
   "cell_type": "code",
   "execution_count": 21,
   "id": "f8e712d7-7bad-4a57-aaec-e11b7d528959",
   "metadata": {},
   "outputs": [
    {
     "name": "stdout",
     "output_type": "stream",
     "text": [
      "Nested coordinates: ((40.7128, -74.006, 5), (41.8902, 12.4924, 10))\n"
     ]
    }
   ],
   "source": [
    "# Nested tuples\n",
    "# These can be used for more complex structures, like a set of 3D coordinates.\n",
    "nested_coordinates = ((40.7128, -74.0060, 5), (41.8902, 12.4924, 10))\n",
    "print(\"Nested coordinates:\", nested_coordinates)\n"
   ]
  },
  {
   "cell_type": "code",
   "execution_count": 22,
   "id": "7e196518-36a6-4316-b0c1-8c27757610cc",
   "metadata": {},
   "outputs": [
    {
     "name": "stdout",
     "output_type": "stream",
     "text": [
      "Unpacked nested coordinates - 1st set: Latitude 40.7128, Longitude -74.006, Altitude 5\n",
      "Unpacked nested coordinates - 2nd set: Latitude 41.8902, Longitude 12.4924, Altitude 10\n"
     ]
    }
   ],
   "source": [
    "# Unpacking nested tuples\n",
    "(lat1, long1, alt1), (lat2, long2, alt2) = nested_coordinates\n",
    "print(f\"Unpacked nested coordinates - 1st set: Latitude {lat1}, Longitude {long1}, Altitude {alt1}\")\n",
    "print(f\"Unpacked nested coordinates - 2nd set: Latitude {lat2}, Longitude {long2}, Altitude {alt2}\")\n"
   ]
  },
  {
   "cell_type": "code",
   "execution_count": 23,
   "id": "63f95a91-4f65-4018-9235-ffab32996077",
   "metadata": {},
   "outputs": [
    {
     "name": "stdout",
     "output_type": "stream",
     "text": [
      "Min: 3, Max: 12\n"
     ]
    }
   ],
   "source": [
    "# Function returning multiple values as a tuple\n",
    "def min_max(data):\n",
    "    return min(data), max(data)\n",
    "\n",
    "data = [3, 6, 9, 12]\n",
    "min_val, max_val = min_max(data)\n",
    "print(f\"Min: {min_val}, Max: {max_val}\")"
   ]
  },
  {
   "cell_type": "markdown",
   "id": "a80378bc-5694-4658-8d44-dd3cc1ec55b2",
   "metadata": {},
   "source": [
    "## Dictionaries\n",
    "\n",
    "Dictionaries in Python are collections of key-value pairs and are extremely versatile for data storage and manipulation. They can be particularly useful for things like storing metadata, associating names with values, or even creating simple databases."
   ]
  },
  {
   "cell_type": "code",
   "execution_count": 24,
   "id": "03cc614a-4dd5-49aa-a592-b46b008b2220",
   "metadata": {},
   "outputs": [
    {
     "name": "stdout",
     "output_type": "stream",
     "text": [
      "Rock sample properties: {'Name': 'Granite', 'Density': 2.75, 'Porosity': 0.1}\n",
      "Density of the rock sample: 2.75\n"
     ]
    }
   ],
   "source": [
    "# Define a dictionary\n",
    "# For example, this could represent the properties of a rock sample.\n",
    "rock_sample = {'Name': 'Granite', 'Density': 2.75, 'Porosity': 0.1}\n",
    "print(\"Rock sample properties:\", rock_sample)\n",
    "\n",
    "# Access values in a dictionary using keys\n",
    "print(\"Density of the rock sample:\", rock_sample['Density'])\n"
   ]
  },
  {
   "cell_type": "code",
   "execution_count": 25,
   "id": "252a1c3b-db89-492d-8064-c2978d943eda",
   "metadata": {},
   "outputs": [
    {
     "name": "stdout",
     "output_type": "stream",
     "text": [
      "Updated rock sample properties: {'Name': 'Granite', 'Density': 2.8, 'Porosity': 0.1}\n"
     ]
    }
   ],
   "source": [
    "# Modify values in a dictionary\n",
    "rock_sample['Density'] = 2.80\n",
    "print(\"Updated rock sample properties:\", rock_sample)\n"
   ]
  },
  {
   "cell_type": "code",
   "execution_count": 26,
   "id": "872ba131-aaa9-48c7-aba1-03e519db9030",
   "metadata": {},
   "outputs": [
    {
     "name": "stdout",
     "output_type": "stream",
     "text": [
      "Rock sample with added color property: {'Name': 'Granite', 'Density': 2.8, 'Porosity': 0.1, 'Color': 'Gray'}\n"
     ]
    }
   ],
   "source": [
    "# Add new key-value pairs to a dictionary\n",
    "# For instance, adding a color property to the rock sample.\n",
    "rock_sample['Color'] = 'Gray'\n",
    "print(\"Rock sample with added color property:\", rock_sample)\n"
   ]
  },
  {
   "cell_type": "code",
   "execution_count": 27,
   "id": "846ca0db-83b5-452c-b302-d23df97291e6",
   "metadata": {},
   "outputs": [
    {
     "name": "stdout",
     "output_type": "stream",
     "text": [
      "Rock sample after removing color property: {'Name': 'Granite', 'Density': 2.8, 'Porosity': 0.1}\n"
     ]
    }
   ],
   "source": [
    "# Remove key-value pairs from a dictionary using 'del'\n",
    "# If the 'Color' information is not needed, you can remove it.\n",
    "del rock_sample['Color']\n",
    "print(\"Rock sample after removing color property:\", rock_sample)\n"
   ]
  },
  {
   "cell_type": "code",
   "execution_count": 28,
   "id": "06894930-2b9d-4667-90a2-bafbe92746bb",
   "metadata": {},
   "outputs": [
    {
     "name": "stdout",
     "output_type": "stream",
     "text": [
      "Porosity exists: 0.1\n"
     ]
    }
   ],
   "source": [
    "# Check if a key exists in a dictionary\n",
    "# This is useful for avoiding errors before trying to access a key.\n",
    "if 'Porosity' in rock_sample:\n",
    "    print(\"Porosity exists:\", rock_sample['Porosity'])\n"
   ]
  },
  {
   "cell_type": "code",
   "execution_count": 29,
   "id": "f572ddc6-8bb3-48d2-b440-00c48acbfc48",
   "metadata": {},
   "outputs": [
    {
     "name": "stdout",
     "output_type": "stream",
     "text": [
      "Safe way to get Porosity: 0.1\n",
      "Safe way to get unknown_key: None\n"
     ]
    }
   ],
   "source": [
    "# Using the 'get()' method to access values safely\n",
    "# This returns None if the key is not found, avoiding errors.\n",
    "print(\"Safe way to get Porosity:\", rock_sample.get('Porosity'))\n",
    "print(\"Safe way to get unknown_key:\", rock_sample.get('unknown_key'))\n"
   ]
  },
  {
   "cell_type": "code",
   "execution_count": 30,
   "id": "afe88788-9db1-42a1-b4bf-ae2140aea015",
   "metadata": {},
   "outputs": [
    {
     "name": "stdout",
     "output_type": "stream",
     "text": [
      "Iterating over keys:\n",
      "Name: Granite\n",
      "Density: 2.8\n",
      "Porosity: 0.1\n"
     ]
    }
   ],
   "source": [
    "# Iterating over keys in a dictionary\n",
    "# For example, to print out all properties of the rock sample.\n",
    "print(\"Iterating over keys:\")\n",
    "for key in rock_sample:\n",
    "    print(f\"{key}: {rock_sample[key]}\")\n"
   ]
  },
  {
   "cell_type": "code",
   "execution_count": 31,
   "id": "2088a7a4-8243-467e-98df-3fd95e68cf5e",
   "metadata": {},
   "outputs": [
    {
     "name": "stdout",
     "output_type": "stream",
     "text": [
      "Iterating over key-value pairs:\n",
      "Name: Granite\n",
      "Density: 2.8\n",
      "Porosity: 0.1\n"
     ]
    }
   ],
   "source": [
    "# Iterating over key-value pairs in a dictionary\n",
    "# More direct than the above method when you need both key and value.\n",
    "print(\"Iterating over key-value pairs:\")\n",
    "for key, value in rock_sample.items():\n",
    "    print(f\"{key}: {value}\")\n"
   ]
  },
  {
   "cell_type": "code",
   "execution_count": 32,
   "id": "9430c23b-33b7-4fb3-97b8-37a1c972d925",
   "metadata": {},
   "outputs": [
    {
     "name": "stdout",
     "output_type": "stream",
     "text": [
      "Nested dictionary: {'Sample_1': {'Name': 'Granite', 'Density': 2.75}, 'Sample_2': {'Name': 'Basalt', 'Density': 3.0}}\n",
      "Density of Sample_1: 2.75\n"
     ]
    }
   ],
   "source": [
    "# Nested dictionaries\n",
    "# These can be used for more complex structures like a collection of rock samples.\n",
    "rock_samples = {\n",
    "    'Sample_1': {'Name': 'Granite', 'Density': 2.75},\n",
    "    'Sample_2': {'Name': 'Basalt', 'Density': 3.00}\n",
    "}\n",
    "print(\"Nested dictionary:\", rock_samples)\n",
    "\n",
    "# Accessing nested dictionaries\n",
    "# To get the density of 'Sample_1'.\n",
    "print(\"Density of Sample_1:\", rock_samples['Sample_1']['Density'])\n",
    "\n"
   ]
  },
  {
   "cell_type": "code",
   "execution_count": 33,
   "id": "df1116b5-97fc-433c-a58e-52fd3931a8a7",
   "metadata": {},
   "outputs": [
    {
     "name": "stdout",
     "output_type": "stream",
     "text": [
      "Geological ages: {'Cambrian': 541, 'Ordovician': 485.4, 'Silurian': 443.8}\n"
     ]
    }
   ],
   "source": [
    "# Using dictionaries as simple databases\n",
    "# For example, associating geological ages with corresponding periods.\n",
    "geological_ages = {'Cambrian': 541, 'Ordovician': 485.4, 'Silurian': 443.8}\n",
    "print(\"Geological ages:\", geological_ages)\n"
   ]
  },
  {
   "cell_type": "code",
   "execution_count": 34,
   "id": "985e3527-43b0-4063-8e96-52a23ffb11ca",
   "metadata": {},
   "outputs": [
    {
     "name": "stdout",
     "output_type": "stream",
     "text": [
      "Data stats: Min value: 3, Max value: 12, Mean value: 7.5\n"
     ]
    }
   ],
   "source": [
    "# Function returning multiple values as a dictionary\n",
    "def min_max_mean(data):\n",
    "    \"\"\"Return the minimum, maximum, and mean values from a list.\"\"\"\n",
    "    return {'min': min(data), 'max': max(data), 'mean': sum(data) / len(data)}\n",
    "\n",
    "# Function usage\n",
    "data = [3, 6, 9, 12]\n",
    "stats = min_max_mean(data)\n",
    "print(f\"Data stats: Min value: {stats['min']}, Max value: {stats['max']}, Mean value: {stats['mean']}\")\n"
   ]
  },
  {
   "cell_type": "code",
   "execution_count": 35,
   "id": "829aef66-a236-4f3e-bf26-89efb8ff19ac",
   "metadata": {},
   "outputs": [
    {
     "name": "stdout",
     "output_type": "stream",
     "text": [
      "5.8\n",
      "6.1\n",
      "Unknown\n"
     ]
    }
   ],
   "source": [
    "# a (sort of) practical use case example: creating a lookup table\n",
    "\n",
    "# Create a dictionary to store depth-seismic_velocity pairs\n",
    "# The depths are in kilometers, and the seismic velocities are in km/s\n",
    "depth_velocity_lookup = {\n",
    "    0: 5.8,  # At surface\n",
    "    10: 6.1,  # 10 km deep\n",
    "    20: 6.3,  # 20 km deep\n",
    "    30: 6.6,  # 30 km deep\n",
    "    50: 8.0  # 50 km deep\n",
    "}\n",
    "\n",
    "# Function to look up the seismic velocity at a given depth\n",
    "def find_seismic_velocity(depth):\n",
    "    return depth_velocity_lookup.get(depth, \"Unknown\")\n",
    "\n",
    "# Testing the lookup\n",
    "print(find_seismic_velocity(0))  # Output will be 5.8\n",
    "print(find_seismic_velocity(10))  # Output will be 6.1\n",
    "\n",
    "# Output will be 'Unknown' because 100 km is not in the dictionary\n",
    "print(find_seismic_velocity(100))  \n"
   ]
  },
  {
   "cell_type": "markdown",
   "id": "423eb431-9325-4701-ab61-fafad38394e9",
   "metadata": {
    "tags": []
   },
   "source": [
    "## Additional data types to know about\n",
    "We won't use these much in this class, but it's good to know they exist."
   ]
  },
  {
   "cell_type": "markdown",
   "id": "c077528c-8373-4636-9427-d9ea90dad1b7",
   "metadata": {},
   "source": [
    "### Sets\n",
    "\n",
    "A set is an unordered collection of unique items. Sets are useful for tasks like removing duplicates from a list, testing for membership, or finding the intersection between two data collections.\n",
    "\n"
   ]
  },
  {
   "cell_type": "code",
   "execution_count": 36,
   "id": "b3e1e953-bfb7-4c42-84cd-1fd0b43461d1",
   "metadata": {},
   "outputs": [
    {
     "name": "stdout",
     "output_type": "stream",
     "text": [
      "{'Mica', 'Quartz', 'Feldspar'}\n",
      "{'Mica', 'Pyrite', 'Quartz', 'Feldspar'}\n",
      "{'Mica', 'Pyrite', 'Quartz', 'Feldspar'}\n",
      "True\n"
     ]
    }
   ],
   "source": [
    "# Create a set\n",
    "minerals = set(['Quartz', 'Feldspar', 'Mica'])\n",
    "print(minerals)\n",
    "\n",
    "# Add an item to the set\n",
    "minerals.add('Pyrite')\n",
    "print(minerals)\n",
    "\n",
    "# Remove duplicates (automatically done in sets)\n",
    "minerals.add('Quartz')\n",
    "print(minerals)\n",
    "\n",
    "# Test for membership\n",
    "print('Quartz' in minerals)\n"
   ]
  },
  {
   "cell_type": "markdown",
   "id": "a829fbd1-95c2-496b-ab6f-f0f999400755",
   "metadata": {},
   "source": [
    "### JSON Objects\n",
    "\n",
    "JSON (JavaScript Object Notation) objects are commonly used for storing structured data, especially when reading from or writing to files. They resemble Python dictionaries."
   ]
  },
  {
   "cell_type": "code",
   "execution_count": 37,
   "id": "2820f7c1-24ee-4569-8955-f7525bfc8eca",
   "metadata": {},
   "outputs": [
    {
     "name": "stdout",
     "output_type": "stream",
     "text": [
      "{\"Name\": \"Granite\", \"Density\": 2.75}\n",
      "{'Name': 'Granite', 'Density': 2.75}\n"
     ]
    }
   ],
   "source": [
    "import json\n",
    "\n",
    "# Create a JSON object\n",
    "rock_data_json = json.dumps({'Name': 'Granite', 'Density': 2.75})\n",
    "print(rock_data_json)\n",
    "\n",
    "# Parse a JSON object\n",
    "rock_data_dict = json.loads(rock_data_json)\n",
    "print(rock_data_dict)"
   ]
  },
  {
   "cell_type": "markdown",
   "id": "51faab01-c6e9-472f-83b1-b7c64c64a237",
   "metadata": {},
   "source": [
    "### Strings\n",
    "Strings in Python are actually sequences and share some properties with lists and tuples. They are often used for storing textual data, parsing, and more."
   ]
  },
  {
   "cell_type": "code",
   "execution_count": 46,
   "id": "5807e50a-c3c9-4800-b2cc-905dc3609892",
   "metadata": {},
   "outputs": [
    {
     "name": "stdout",
     "output_type": "stream",
     "text": [
      "First letter: G\n",
      "Last 3 letters: ogy\n"
     ]
    }
   ],
   "source": [
    "# Create a string\n",
    "str_data = \"Geology\"\n",
    "\n",
    "# String indexing and slicing\n",
    "print(\"First letter:\", str_data[0])\n",
    "print(\"Last 3 letters:\", str_data[-3:])\n"
   ]
  },
  {
   "cell_type": "code",
   "execution_count": 47,
   "id": "c28466cf-3a04-4e46-a5d1-beaeb97c5de6",
   "metadata": {},
   "outputs": [
    {
     "name": "stdout",
     "output_type": "stream",
     "text": [
      "True\n",
      "False\n"
     ]
    }
   ],
   "source": [
    "# check if a string contains another string:\n",
    "place = '14km NW of Albuquerque, New Mexico'\n",
    "state1 = 'New Mexico'\n",
    "state2 = 'Arizona'\n",
    "print(state1 in place)\n",
    "print(state2 in place)"
   ]
  },
  {
   "cell_type": "markdown",
   "id": "68515133-16a5-4d78-aec8-f76072b3ead1",
   "metadata": {},
   "source": [
    "### Objects\n",
    "\n",
    "Creating custom object types in Python often involves defining classes. Classes allow you to bundle data and functionalities together."
   ]
  },
  {
   "cell_type": "code",
   "execution_count": 39,
   "id": "e1cd54bd-562d-40a0-b67c-eced26a4d01a",
   "metadata": {},
   "outputs": [],
   "source": [
    "class RockSample:\n",
    "    # The constructor (__init__) initializes the object\n",
    "    def __init__(self, name, density, porosity, color=None):\n",
    "        self.name = name          # Rock name (String)\n",
    "        self.density = density    # Rock density (Float)\n",
    "        self.porosity = porosity  # Rock porosity (Float)\n",
    "        self.color = color        # Rock color (String), optional\n",
    "\n",
    "    # A method to update density\n",
    "    def update_density(self, new_density):\n",
    "        self.density = new_density\n",
    "        \n",
    "    # Compute the mass of a sample, given volume\n",
    "    def compute_mass(self, volume):\n",
    "        return volume * self.density\n",
    "\n",
    "    # A method to display the rock properties\n",
    "    def display_properties(self):\n",
    "        print(f\"Rock Name: {self.name}\")\n",
    "        print(f\"Density: {self.density} g/cm^3\")\n",
    "        print(f\"Porosity: {self.porosity}\")\n",
    "        if self.color:\n",
    "            print(f\"Color: {self.color}\")"
   ]
  },
  {
   "cell_type": "code",
   "execution_count": 40,
   "id": "8638406c-01fd-4c28-aac1-affde6ca87de",
   "metadata": {},
   "outputs": [
    {
     "name": "stdout",
     "output_type": "stream",
     "text": [
      "Properties of Sample 1:\n",
      "Rock Name: Granite\n",
      "Density: 2.75 g/cm^3\n",
      "Porosity: 0.1\n",
      "\n",
      "Updated Properties of Sample 1:\n",
      "Rock Name: Granite\n",
      "Density: 2.8 g/cm^3\n",
      "Porosity: 0.1\n"
     ]
    }
   ],
   "source": [
    "# Creating an instance of the RockSample class\n",
    "sample1 = RockSample('Granite', 2.75, 0.1)\n",
    "\n",
    "# Displaying properties of sample1\n",
    "print(\"Properties of Sample 1:\")\n",
    "sample1.display_properties()\n",
    "\n",
    "# Updating the density of sample1\n",
    "sample1.update_density(2.80)\n",
    "\n",
    "# Displaying updated properties of sample1\n",
    "print(\"\\nUpdated Properties of Sample 1:\")\n",
    "sample1.display_properties()"
   ]
  },
  {
   "cell_type": "code",
   "execution_count": 41,
   "id": "bb5c1e1e-42ff-4355-a345-bf60b0812a15",
   "metadata": {},
   "outputs": [
    {
     "name": "stdout",
     "output_type": "stream",
     "text": [
      "Properties of Sample 2:\n",
      "Rock Name: Basalt\n",
      "Density: 3.0 g/cm^3\n",
      "Porosity: 0.05\n",
      "Color: Black\n",
      "\n",
      "mass (g) for a volume of 100 cm^3: 300.0\n"
     ]
    }
   ],
   "source": [
    "# Creating another instance with optional color information\n",
    "sample2 = RockSample('Basalt', 3.00, 0.05, color='Black')\n",
    "\n",
    "# Displaying properties of sample2\n",
    "print(\"Properties of Sample 2:\")\n",
    "sample2.display_properties()\n",
    "\n",
    "# compute mass of a 100 cm^3 sample\n",
    "print(\"\\nmass (g) for a volume of 100 cm^3:\", sample2.compute_mass(100))"
   ]
  },
  {
   "cell_type": "code",
   "execution_count": null,
   "id": "1bdf14d1-8199-421b-a28d-4f172f22affa",
   "metadata": {},
   "outputs": [],
   "source": []
  }
 ],
 "metadata": {
  "kernelspec": {
   "display_name": "Python 3 (ipykernel)",
   "language": "python",
   "name": "python3"
  },
  "language_info": {
   "codemirror_mode": {
    "name": "ipython",
    "version": 3
   },
   "file_extension": ".py",
   "mimetype": "text/x-python",
   "name": "python",
   "nbconvert_exporter": "python",
   "pygments_lexer": "ipython3",
   "version": "3.10.8"
  }
 },
 "nbformat": 4,
 "nbformat_minor": 5
}
