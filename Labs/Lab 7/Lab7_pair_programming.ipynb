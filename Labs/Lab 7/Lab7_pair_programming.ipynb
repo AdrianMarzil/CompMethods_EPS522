{
 "cells": [
  {
   "cell_type": "markdown",
   "id": "direct-asian",
   "metadata": {},
   "source": [
    "# Lab 7. Pair programming\n",
    "#### Computational Methods for Geoscience - EPS 400/522\n",
    "#### Instructor: Eric Lindsey\n",
    "\n",
    "Due: Oct. 19, 2023\n",
    "\n",
    "---------"
   ]
  },
  {
   "cell_type": "markdown",
   "id": "f81791dc-c296-414a-931f-c2a9d2a3914e",
   "metadata": {},
   "source": [
    "In this lab, you'll work in pairs to get some experience running code you haven't written, and submitting a GitHub pull request.\n",
    "\n",
    "\n",
    "Your name: _______________\n",
    "\n",
    "Your partner's name: _______________\n",
    "\n",
    "Your respective github pages:\n"
   ]
  },
  {
   "cell_type": "code",
   "execution_count": null,
   "id": "center-trail",
   "metadata": {},
   "outputs": [],
   "source": [
    "# some useful imports and settings\n",
    "import numpy as np\n",
    "import pandas as pd\n",
    "import matplotlib.pyplot as plt\n",
    "import glob\n",
    "\n",
    "# better looking figures on high-resolution screens\n",
    "%config InlineBackend.figure_format = 'retina'\n",
    "\n",
    "# reload modules if they have changed - necessary when you are editing your own module\n",
    "%load_ext autoreload\n",
    "%autoreload 2"
   ]
  },
  {
   "cell_type": "markdown",
   "id": "1a0cc41c-af4c-4539-9352-260e9eb3dee3",
   "metadata": {},
   "source": [
    "## Assignment: Adapting a module from github\n",
    "\n",
    "Hopefully you've uploaded your line-fitting module to github by now. Your assignment is to work with a partner to do the following:\n",
    "\n",
    "a. On GitHub, fork the other person's module, and then clone the repository to your computer.\n",
    "\n",
    "b. Import their module below, and test it out. Make sure it gives the same results when fitting the GNSS timeseries data as yours does! If not, work togegther to find the bug and fix it.\n",
    "\n",
    "c. Modify their module by adding a function to plot the E,N velocities as arrows on a map (use plt.quiver), and the U velocities as colored dots (plt.scatter). Make it a nice-looking map!\n",
    "\n",
    "d. Push your changes back to the GitHub page, and then submit a pull request to their GitHub repository."
   ]
  },
  {
   "cell_type": "code",
   "execution_count": null,
   "id": "e030db2e-4898-4a86-a986-1f2ab70f0c27",
   "metadata": {},
   "outputs": [],
   "source": []
  }
 ],
 "metadata": {
  "kernelspec": {
   "display_name": "Python 3 (ipykernel)",
   "language": "python",
   "name": "python3"
  },
  "language_info": {
   "codemirror_mode": {
    "name": "ipython",
    "version": 3
   },
   "file_extension": ".py",
   "mimetype": "text/x-python",
   "name": "python",
   "nbconvert_exporter": "python",
   "pygments_lexer": "ipython3",
   "version": "3.10.8"
  }
 },
 "nbformat": 4,
 "nbformat_minor": 5
}
