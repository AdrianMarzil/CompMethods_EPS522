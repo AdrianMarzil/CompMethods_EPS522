{
 "cells": [
  {
   "cell_type": "markdown",
   "id": "e957d49b",
   "metadata": {},
   "source": [
    "# Lab 8. Image processing\n",
    "#### Computational Methods for Geoscience - Fall 2023\n",
    "#### Instructor: Eric Lindsey\n",
    "\n",
    "Due: Oct. 31, 2023\n",
    "\n",
    "---------"
   ]
  },
  {
   "cell_type": "code",
   "execution_count": 1,
   "id": "21b8af1d",
   "metadata": {},
   "outputs": [],
   "source": [
    "# some useful imports and settings\n",
    "import numpy as np\n",
    "import pandas as pd\n",
    "import matplotlib.pyplot as plt\n",
    "from ipywidgets import interactive\n",
    "import scipy.fft\n",
    "import scipy.signal\n",
    "import cv2\n",
    "\n",
    "%config InlineBackend.figure_format = 'retina' # better looking figures on high-resolution screens\n",
    "# automatically reload modules when running, otherwise jupyter does not notice if our functions have changed\n",
    "%load_ext autoreload\n",
    "%autoreload 2\n",
    "\n",
    "# not used in this lab:\n",
    "\n",
    "#import netCDF4 as nc\n",
    "#import datetime\n",
    "#import scipy.optimize\n",
    "#import time\n",
    "#import multiprocessing as mp"
   ]
  },
  {
   "cell_type": "markdown",
   "id": "87582c68",
   "metadata": {},
   "source": [
    "### Assignment 1. Re-order the bands of an image and display it\n",
    "a. Read in the landsat data from 10/16/2023 over Albuquerque, and plot the bands separately.\n",
    "\n",
    "The bands represent the following information:\n",
    "- Band 2: Blue\n",
    "- Band 3: Green\n",
    "- Band 4: Red\n",
    "- Band 5: Near-infrared\n",
    "\n",
    "b. Create an \"RGB\" composite to view the image in true color. Set the bounds of your plot to view just the area around Albuquerque and the Sandias.\n",
    "\n",
    "c. Then try computing NDVI using the Red and Near-infrared bands and plot that image.\n"
   ]
  },
  {
   "cell_type": "code",
   "execution_count": null,
   "id": "8e2a3f17",
   "metadata": {},
   "outputs": [],
   "source": []
  },
  {
   "cell_type": "markdown",
   "id": "78933852",
   "metadata": {},
   "source": [
    "### Assignment 2. Filtering the image\n",
    "\n",
    "Apply the following filters to the grayscale image of my cat Pumpkin, and plot them all together with the original\n",
    "\n",
    "- 9x9 smoothing\n",
    "- 9x9 median\n",
    "- Edge detection\n",
    "\n",
    "For the last one, use the function 'cv2.canny', which is a common edge detection filter. You'll have to look up how to use it!\n"
   ]
  },
  {
   "cell_type": "code",
   "execution_count": null,
   "id": "0bdbebfb",
   "metadata": {},
   "outputs": [],
   "source": []
  },
  {
   "cell_type": "markdown",
   "id": "c6a9053b",
   "metadata": {},
   "source": [
    "## Image thresholding and connected components\n",
    "\n"
   ]
  },
  {
   "cell_type": "markdown",
   "id": "1ef9c6aa",
   "metadata": {},
   "source": [
    "### Assignment 3: labeling the icebergs on the figure\n",
    "\n",
    "The information output by the connected components identifier contains other useful information besides just the shape areas. For example, we can get the object centroids within our for loop, with \n",
    "\n",
    "    (cx, cy) = centroids[i]\n",
    "    \n",
    "and bounding-box information with\n",
    "\n",
    "    x = stats[i, cv2.CC_STAT_LEFT]\n",
    "    y = stats[i, cv2.CC_STAT_TOP]\n",
    "    w = stats[i, cv2.CC_STAT_WIDTH]\n",
    "    h = stats[i, cv2.CC_STAT_HEIGHT]\n",
    "\n",
    "Copy the code above and modify it to plot the original grayscale image, but with a red text label on the figure at the centroid location of each iceberg displaying that iceberg's area if it's larger than your chosen threshold, and draw a bounding box around the largest one."
   ]
  },
  {
   "cell_type": "code",
   "execution_count": null,
   "id": "c49067a2",
   "metadata": {},
   "outputs": [],
   "source": []
  },
  {
   "cell_type": "markdown",
   "id": "3ca223c5",
   "metadata": {},
   "source": [
    "### Assignment 4: connected components of your own image!\n",
    "\n",
    "Find an image you think could be easily thresholded and separated into connected components, then apply the above method to it. Be creative - for example, maybe you could use this method to identify and count balloons in the sky, or olivine crystals from a thin section, or even get the relative abundances of different minerals, if you can identify them separately using the different color bands.\n",
    "\n",
    "Or maybe you can count penguins!"
   ]
  },
  {
   "cell_type": "code",
   "execution_count": null,
   "id": "b4bb4f12",
   "metadata": {},
   "outputs": [],
   "source": []
  }
 ],
 "metadata": {
  "kernelspec": {
   "display_name": "Python 3 (ipykernel)",
   "language": "python",
   "name": "python3"
  },
  "language_info": {
   "codemirror_mode": {
    "name": "ipython",
    "version": 3
   },
   "file_extension": ".py",
   "mimetype": "text/x-python",
   "name": "python",
   "nbconvert_exporter": "python",
   "pygments_lexer": "ipython3",
   "version": "3.10.8"
  }
 },
 "nbformat": 4,
 "nbformat_minor": 5
}
