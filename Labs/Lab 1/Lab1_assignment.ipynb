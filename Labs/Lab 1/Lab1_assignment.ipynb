{
 "cells": [
  {
   "cell_type": "markdown",
   "metadata": {
    "jp-MarkdownHeadingCollapsed": true,
    "tags": [],
    "user_expressions": []
   },
   "source": [
    "# EPS400/522\n",
    "#### Computational Methods for Geoscience - Fall 2023\n",
    "#### Instructor: Eric Lindsey\n",
    "---------\n",
    "<b> Adrian Marziliano </b>\n",
    "<br> Aug 22, 2023"
   ]
  },
  {
   "cell_type": "markdown",
   "metadata": {},
   "source": [
    "# Assignments for Lab 1"
   ]
  },
  {
   "cell_type": "markdown",
   "metadata": {},
   "source": [
    "This notebook contains some assignments (or puzzles) you should try to solve to improve your understanding of python and make sure you understood the things you read in the examples notebook. Some of them are harder than others, don't feel bad if the solution seems unreachable or confusing! This is all part of the learning process. If you are stuck, feel free to ask your neighbor, the instructors, google, or even a Chat AI for help. \n",
    "\n",
    "It's OK if you don't get through everything. The last assignments especially are designed to challenge you, and if they feel overwhelming now, try coming back to them in a couple days - you may be surprised how much you've learned!\n",
    "\n",
    "This assignment will not be graded and you don't need to turn it in (unless you want to)!"
   ]
  },
  {
   "cell_type": "markdown",
   "metadata": {},
   "source": [
    "### 0. Bug Assignment:"
   ]
  },
  {
   "cell_type": "code",
   "execution_count": 1,
   "metadata": {
    "tags": []
   },
   "outputs": [
    {
     "ename": "SyntaxError",
     "evalue": "invalid syntax (3674265522.py, line 1)",
     "output_type": "error",
     "traceback": [
      "\u001b[0;36m  Cell \u001b[0;32mIn [1], line 1\u001b[0;36m\u001b[0m\n\u001b[0;31m    This cell has two bugs. First run it to see the error message, then try to fix the bugs one at a time.\u001b[0m\n\u001b[0m         ^\u001b[0m\n\u001b[0;31mSyntaxError\u001b[0m\u001b[0;31m:\u001b[0m invalid syntax\n"
     ]
    }
   ],
   "source": [
    "This cell has two bugs. First run it to see the error message, then try to fix the bugs one at a time.\n",
    "\n",
    "prnt(\"I have fixed the bugs!\")"
   ]
  },
  {
   "cell_type": "markdown",
   "metadata": {
    "tags": [],
    "user_expressions": []
   },
   "source": [
    "The two bugs were:\n",
    "1. The instructions were not 'commented' out with a '#' so the code cell tried to read this as Python code\n",
    "2. The 'print' command was mispelled as 'prnt' and was not recognized as 'print'"
   ]
  },
  {
   "cell_type": "code",
   "execution_count": 5,
   "metadata": {
    "tags": []
   },
   "outputs": [
    {
     "name": "stdout",
     "output_type": "stream",
     "text": [
      "I have fixed the bugs!\n"
     ]
    }
   ],
   "source": [
    "#This cell has two bugs. First run it to see the error message, then try to fix the bugs one at a time.\n",
    "\n",
    "print(\"I have fixed the bugs!\")\n",
    "\n"
   ]
  },
  {
   "cell_type": "markdown",
   "metadata": {},
   "source": [
    "### 1. Variables assignment: radians/degrees\n",
    "Create a variable called \"deg2rad\" that will convert degrees into radians whenever you multiply it by a value in degrees. For example, we want this to work correctly for any value `number_in_degrees`:\n",
    "\n",
    "    number_in_radians = number_in_degrees * deg2rad\n",
    "\n",
    "Test your work by demonstrating that 180 degrees is equal to pi radians.\n",
    "\n",
    "Then compute 1 degree in radians, and 1 radian in degrees.\n",
    "\n",
    "Hint: radians = degrees * pi / 180 \n",
    "\n",
    "Second hint: to use a more exact value of \"pi\", you have to import numpy as np. Then you can use \"np.pi\"\n"
   ]
  },
  {
   "cell_type": "code",
   "execution_count": 26,
   "metadata": {
    "tags": []
   },
   "outputs": [
    {
     "ename": "SyntaxError",
     "evalue": "invalid syntax. Perhaps you forgot a comma? (3753478129.py, line 12)",
     "output_type": "error",
     "traceback": [
      "\u001b[0;36m  Cell \u001b[0;32mIn [26], line 12\u001b[0;36m\u001b[0m\n\u001b[0;31m    print(num_deg, str(\"is\") num_rad, \"radians\")\u001b[0m\n\u001b[0m                   ^\u001b[0m\n\u001b[0;31mSyntaxError\u001b[0m\u001b[0;31m:\u001b[0m invalid syntax. Perhaps you forgot a comma?\n"
     ]
    }
   ],
   "source": [
    "# put your work here.\n",
    "import numpy as np\n",
    "\n",
    "\n",
    "# Convert degress to radians\n",
    "# deg2rad = 0.0174533\n",
    "pi = np.pi\n",
    "deg2rad = pi/180\n",
    "num_deg = 1\n",
    "\n",
    "num_rad = num_deg * deg2rad\n",
    "print(num_deg, str(\"is\") num_rad, \"radians\")"
   ]
  },
  {
   "cell_type": "code",
   "execution_count": 6,
   "metadata": {
    "tags": []
   },
   "outputs": [
    {
     "name": "stdout",
     "output_type": "stream",
     "text": [
      "57.29577951308232 degrees\n"
     ]
    }
   ],
   "source": [
    "# Convert radians to degrees\n",
    "num_rad = 1\n",
    "\n",
    "num_deg = num_rad/deg2rad\n",
    "print (num_deg, \"degrees\")"
   ]
  },
  {
   "cell_type": "markdown",
   "metadata": {},
   "source": [
    "### 2. Numbers assignment\n",
    "Write a function that will calculate the time that a signal takes to reach us from a GPS satellite, given the speed of light is roughly 2.99 x 10^8 meters/second. The altitude of the GPS satellite above the surface of Earth is 20,000 kilometers. \n",
    "\n",
    "You have the following tasks:\n",
    "\n",
    "(a) Define a variable for the speed of light, using scientific notation. In python this is done with 'e'. For example, `4.34e5` is equal to 434,000\n"
   ]
  },
  {
   "cell_type": "code",
   "execution_count": null,
   "metadata": {},
   "outputs": [],
   "source": []
  },
  {
   "cell_type": "markdown",
   "metadata": {},
   "source": [
    "(b) Define a variable for the altitude of the GPS satellite, in meters, also using scientific notation (be careful of units here!)\n",
    "\n",
    " "
   ]
  },
  {
   "cell_type": "code",
   "execution_count": null,
   "metadata": {},
   "outputs": [],
   "source": []
  },
  {
   "cell_type": "markdown",
   "metadata": {},
   "source": [
    " (c) Use the formula Time = Distance/Velocity, to calculate the time required by the signal to reach the Earth from the GPS satellite Assign the result to a new variable and print out the result.\n",
    "\n"
   ]
  },
  {
   "cell_type": "code",
   "execution_count": null,
   "metadata": {},
   "outputs": [],
   "source": []
  },
  {
   "cell_type": "markdown",
   "metadata": {},
   "source": [
    "### 3. String assignment: \n",
    "Using the altitude and travel-time variables you calculated in part 2 above, print out the time traveled by the signal as a nicely formatted sentence:\n",
    "\n",
    "    The time taken by the signal from a GPS satellite at an altitude of XXXX km to reach the Earth is X.XXXXX seconds.\n",
    "\n",
    "  TIP: to print a variable using print() use the following syntax, where %f is the place-holder for a floating point variable, given with %variable at the end of the line:\n",
    "\n",
    "\n",
    "      print ('the variable value is %f' %value) \n",
    "      \n",
    "You can use other formatting options: %s for strings, and %d for integers. If you want to include more than one variable, you can list them in parentheses:\n",
    "\n",
    "\n",
    "      print ('the first value is %f, the second is %d' %(value1,value2)) \n",
    "      \n",
    "Finally, for floating point values you can control the number of values after the decimal point with e.g. \"%.2f\" for 2 decimal values.\n",
    "\n",
    "Note, this is only one way of generating nicely formatted strings. Check out this page for (much) more information if you are interested: https://realpython.com/python-string-formatting/"
   ]
  },
  {
   "cell_type": "code",
   "execution_count": null,
   "metadata": {},
   "outputs": [],
   "source": []
  },
  {
   "cell_type": "markdown",
   "metadata": {},
   "source": [
    "### 4. Expression assignment\n",
    "Define a variable, then create an expression that determines whether one computation done with that variable is larger than or smaller than another one. Your expression should return either \"True\" or \"False\" and save that value to a new variable. Then print out both the value and the type of that variable."
   ]
  },
  {
   "cell_type": "code",
   "execution_count": null,
   "metadata": {},
   "outputs": [],
   "source": []
  },
  {
   "cell_type": "markdown",
   "metadata": {},
   "source": [
    "### 5. List assignment: \n",
    "\n",
    "a. Add 'kiwi' to the following list, before 'cherry', and print out the result"
   ]
  },
  {
   "cell_type": "code",
   "execution_count": null,
   "metadata": {},
   "outputs": [],
   "source": [
    "thislist = [\"apple\", \"banana\", \"cherry\"]"
   ]
  },
  {
   "cell_type": "markdown",
   "metadata": {},
   "source": [
    "b. Create a list containing days of the week (starting with Sunday). Write a statement that indexes this list given an integer from 1 to 7 (defined as a variable \"dayNum\"), and prints out that day of the week. Note that if dayNum=1, your statement should print out Sunday - you will have to deal with the zero-indexing issue of Python!"
   ]
  },
  {
   "cell_type": "code",
   "execution_count": null,
   "metadata": {},
   "outputs": [],
   "source": []
  },
  {
   "cell_type": "markdown",
   "metadata": {},
   "source": [
    "### 6. Array assignment: Create a 3x3 array, and print out only the middle column."
   ]
  },
  {
   "cell_type": "code",
   "execution_count": null,
   "metadata": {},
   "outputs": [],
   "source": []
  },
  {
   "cell_type": "markdown",
   "metadata": {},
   "source": [
    "### 7. Conditionals assignment:\n",
    "Create a 2x2 numpy array, then compare the [0,0] and [1,1] elements of the array, and give a message about which is larger."
   ]
  },
  {
   "cell_type": "code",
   "execution_count": null,
   "metadata": {},
   "outputs": [],
   "source": []
  },
  {
   "cell_type": "markdown",
   "metadata": {},
   "source": [
    "### 8. Loops assignment:\n",
    "a. Create a nested for loop (two for loops inside each other) that populate the values of a 5x5 numpy array with the product of the two array index values. E.g:\n",
    "\n",
    "    myarray[i,j] = i*j\n",
    "    \n",
    "Hint: we will first need to create a blank array of size 5x5. To do this, we use the following syntax:\n",
    "\n",
    "    myarray=np.zeros((5,5))"
   ]
  },
  {
   "cell_type": "code",
   "execution_count": null,
   "metadata": {},
   "outputs": [],
   "source": []
  },
  {
   "cell_type": "markdown",
   "metadata": {},
   "source": [
    "b. Use a while loop to keep rolling a dice, and only stop when you roll a 6. To roll a dice from 1 to 6 in python, we can use:\n",
    "\n",
    "    a = np.random.randint(1,7)\n",
    "\n",
    "**Warning**: When trying out while loops, user beware! If you cause a bug that makes it run forever, use the square \"stop\" button at the top of the page. Occasionally it may crash your jupyter page.\n",
    "\n",
    "**Note**: It's a good idea to use more informative variable names. Instead of calling your dice roll \"a\", give it a more informative name. This is a good habit to get into early on!"
   ]
  },
  {
   "cell_type": "code",
   "execution_count": null,
   "metadata": {},
   "outputs": [],
   "source": []
  },
  {
   "cell_type": "markdown",
   "metadata": {},
   "source": [
    "### 9. Functions assignment: \n",
    "With all you've learned so far, you are now able to write some more or less fully-fledged programs! Here are a few exercises to practice your function mastery. For each one, give the function a sensible name, and test it with a few different inputs to make sure it works as you expect. "
   ]
  },
  {
   "cell_type": "markdown",
   "metadata": {},
   "source": [
    "a. Write a function that accepts 2 inputs: a string, and a number. The function should use a loop to print out the input string the specified number of times. Then call the function, using your name and favorite number as the input"
   ]
  },
  {
   "cell_type": "code",
   "execution_count": null,
   "metadata": {},
   "outputs": [],
   "source": []
  },
  {
   "cell_type": "markdown",
   "metadata": {},
   "source": [
    "b. Convert your answer to question 1 above into a function called \"deg2rad\" that will convert any number input in degrees to radians\n"
   ]
  },
  {
   "cell_type": "code",
   "execution_count": null,
   "metadata": {},
   "outputs": [],
   "source": []
  },
  {
   "cell_type": "markdown",
   "metadata": {},
   "source": [
    "c. Write a function that will convert geographic coordinates in degree (D), minute (M), second (S) to decimal degrees format (DMS to DD.DDDD)\n",
    "    \n",
    "      Hint: 1 minute = 1/60 degree, 1 second = 1/3600  degree"
   ]
  },
  {
   "cell_type": "code",
   "execution_count": null,
   "metadata": {},
   "outputs": [],
   "source": []
  },
  {
   "cell_type": "markdown",
   "metadata": {},
   "source": [
    "d. (Complicated!) Write a function that will input year, month, day and output day of year (the so-called \"Julian date\")\n",
    "\n",
    "   Tricky: beware of leap years, which are any years that can be exactly divided by 4, but not by 100 - i.e. 2004 is a leap year but 2000 is not.\n",
    "   \n",
    "   Hint: Python has a 'modulo' division symbol (%) that gives the remainder of division; this can tell you if a number is exactly divisible: for example, try 2015 % 4, and 2016 % 4\n",
    "   "
   ]
  },
  {
   "cell_type": "code",
   "execution_count": null,
   "metadata": {},
   "outputs": [],
   "source": []
  },
  {
   "cell_type": "markdown",
   "metadata": {},
   "source": [
    "e. Optional: Re-do problem d, but using the built-in python module 'datetime'. Use google to find the manual for the datetime module. You may find the code is much shorter!"
   ]
  },
  {
   "cell_type": "code",
   "execution_count": null,
   "metadata": {},
   "outputs": [],
   "source": []
  },
  {
   "cell_type": "markdown",
   "metadata": {},
   "source": [
    "### 10. Optional Assignment: modules"
   ]
  },
  {
   "cell_type": "markdown",
   "metadata": {},
   "source": [
    "Make a module that contains a function that computes distance on a sphere by implementing one of the distance algorithms from https://en.wikipedia.org/wiki/Great-circle_distance.\n",
    "\n",
    "Then import the module here, and compute the distance between Albuquerque (Lon, Lat: -106.62, 35.08) and your dream vacation destination.\n"
   ]
  },
  {
   "cell_type": "code",
   "execution_count": null,
   "metadata": {},
   "outputs": [],
   "source": []
  },
  {
   "cell_type": "markdown",
   "metadata": {},
   "source": [
    "### 11. Optional Assignment: programming challenges!\n",
    "Try a programming challenge from \n",
    "https://www.codecademy.com/resources/blog/python-code-challenges-for-beginners/, or https://pythonprinciples.com/challenges/."
   ]
  },
  {
   "cell_type": "code",
   "execution_count": null,
   "metadata": {},
   "outputs": [],
   "source": []
  }
 ],
 "metadata": {
  "kernelspec": {
   "display_name": "Python 3 (ipykernel)",
   "language": "python",
   "name": "python3"
  },
  "language_info": {
   "codemirror_mode": {
    "name": "ipython",
    "version": 3
   },
   "file_extension": ".py",
   "mimetype": "text/x-python",
   "name": "python",
   "nbconvert_exporter": "python",
   "pygments_lexer": "ipython3",
   "version": "3.10.12"
  }
 },
 "nbformat": 4,
 "nbformat_minor": 4
}
