{
 "cells": [
  {
   "cell_type": "markdown",
   "metadata": {},
   "source": [
    "# EPS 400/522: Basics of programming in Python\n",
    "\n",
    "#### Contents:\n",
    "0. Python input/output\n",
    "1. Variables\n",
    "2. Types and numbers\n",
    "3. Strings\n",
    "4. Expressions\n",
    "5. Lists\n",
    "6. Arrays\n",
    "7. Conditionals\n",
    "8. Loops\n",
    "9. Functions\n",
    "10. Modules."
   ]
  },
  {
   "cell_type": "markdown",
   "metadata": {},
   "source": [
    "----"
   ]
  },
  {
   "cell_type": "markdown",
   "metadata": {},
   "source": [
    "Welcome to Computational Methods for Geoscience! This is an interactive Jupyter notebook designed to teach you some basics of programming in python."
   ]
  },
  {
   "cell_type": "markdown",
   "metadata": {},
   "source": [
    "# 0. Python input/output"
   ]
  },
  {
   "cell_type": "markdown",
   "metadata": {},
   "source": [
    "In the Jupyter interface, the page is composed of \"cells\" of three types: markdown text, input, and output. You can edit a markdown text cell (like this one) by double-clicking on it.\n",
    "#### Some formatting options: this is a header\n",
    "\n",
    "**bold**\n",
    "\n",
    "*italic*\n",
    "\n",
    "[Link: Learn more about markdown formatting here](https://www.markdownguide.org/basic-syntax/)\n",
    "\n",
    "Things to try:\n",
    "1. Double-click on this cell now. Notice that the formatting goes away and now you can edit the text.\n",
    "2. Fix hte typ0s in this snetence, and change *this* word from italic to underlined.\n",
    "3. Now, to see how it looks when formatted again, press shift-enter.\n",
    "\n"
   ]
  },
  {
   "cell_type": "markdown",
   "metadata": {},
   "source": [
    "We can even include an image in a markdown cell! The image can be local (in the same folder as your notebook file) or remote, with a website URL. Try replacing the URL for this image with an Earth Science related image you like.\n",
    "\n",
    "![Alt text description here: this is a selfie taken by Curiosity on Mars](https://www.nasa.gov/sites/default/files/styles/2x1_cardfeed/public/thumbnails/image/curiosity_selfie.jpg)\n"
   ]
  },
  {
   "cell_type": "markdown",
   "metadata": {},
   "source": [
    "The second type of cell is labeled \"code\" and is where we will spend most of our time.\n",
    "\n",
    "To execute this cell and see the output, press shift-enter just like for the text cell above.\n",
    "Or, click the \"play\" triangle button at the top.\n",
    "the output will appear below in a non-editable cell.\n",
    "\n",
    "Note that after you run the cell, a little number appears next to it in the brackets. \n",
    "This number will increment each time you run a cell, so you can keep track of which order you ran things in.\n",
    "Any variables or functions you declare in this cell will now be available in your workspace (the notebook's memory).\n",
    "if you re-start your notebook, the output of any cells you ran will still be visible, but the memory will be cleared."
   ]
  },
  {
   "cell_type": "code",
   "execution_count": null,
   "metadata": {},
   "outputs": [],
   "source": [
    "# Each line in a code cell is interpreted by Jupyter as a line of python code to execute. \n",
    "# To create a \"comment\" that won't be executed in this type of cell, put a hash symbol (#) in front of it.\n",
    "\n",
    "# Here is a simple statement:\n",
    "print(\"hello, world!\")   # note that commments are allowed at the end of a line, too."
   ]
  },
  {
   "cell_type": "raw",
   "metadata": {},
   "source": [
    "This is a final type of cell called \"Raw\" which looks like code but cannot be run like a code cell. It's just plain text. We normally don't have much use for this type of cell. If you run it, nothing happens."
   ]
  },
  {
   "cell_type": "markdown",
   "metadata": {},
   "source": [
    "#### Bugs and errors"
   ]
  },
  {
   "cell_type": "markdown",
   "metadata": {},
   "source": [
    "When writing a program, it's natural to encounter a bug, whether due to a typo, a mistake, or simply due to experimentation. \n",
    "\n",
    "The important thing to remember is that bugs are OK and it's natural to encounter them (or even cause them intentionally) as part of the programming process. Keep calm and type on!\n",
    "\n",
    "When you see an error message, you will have to interpret what you think might be wrong. Python gives some clues, but sometimes they can be misleading. Fixing each bug is like a mini puzzle for you to figure out. Sometimes googling the error along with some keywords will help, but sometimes you just have to puzzle it out and try different things until it works. Good luck!"
   ]
  },
  {
   "cell_type": "code",
   "execution_count": null,
   "metadata": {},
   "outputs": [],
   "source": [
    "This cell has two bugs. First run it to see the error message, then try to fix the bugs one at a time.\n",
    "\n",
    "prnt(\"I have fixed the bugs!\")"
   ]
  },
  {
   "cell_type": "markdown",
   "metadata": {},
   "source": [
    "#### Adding and modifying cells"
   ]
  },
  {
   "cell_type": "markdown",
   "metadata": {},
   "source": [
    "To add a cell, click the small \"+\" button in the top toolbar. It will appear below your current active cell, and will be a 'code' type cell by default. To change it, use the drop-down menu in the toolbar to change it to markdown. You may notice there is another type called 'raw', this is just a text cell that has no formatting at all.\n",
    "\n",
    "Add a cell below and make it a markdown type. Then add your name and today's date."
   ]
  },
  {
   "cell_type": "markdown",
   "metadata": {},
   "source": [
    "----"
   ]
  },
  {
   "cell_type": "markdown",
   "metadata": {},
   "source": [
    "# 1. Variables\n",
    "Variables are essentially \"containers\" we use to store data in memory. If we want to store some value (like the number 7) in memory, we can give it a name so that we can access it later, for example via x = 7. Then anytime we use the name \"x\", the computer will recognize it and load the value that name refers to. So we could write x*2 and the computer will compute 14.\n",
    "\n",
    "The \"print\" statement is often used to output variables."
   ]
  },
  {
   "cell_type": "markdown",
   "metadata": {},
   "source": [
    "Basic types of variables include \"integer\" (no decimal point), \"float\" (number with a decimal point), and \"string\" (stores  characters)."
   ]
  },
  {
   "cell_type": "code",
   "execution_count": null,
   "metadata": {},
   "outputs": [],
   "source": [
    "# Integer number\n",
    "x = 7\n",
    "print (x)"
   ]
  },
  {
   "cell_type": "code",
   "execution_count": null,
   "metadata": {},
   "outputs": [],
   "source": [
    "# Floating point number\n",
    "x = 7.0\n",
    "print (x)"
   ]
  },
  {
   "cell_type": "code",
   "execution_count": null,
   "metadata": {},
   "outputs": [],
   "source": [
    "# Strings (single quote)\n",
    "x = 'hello' \n",
    "print (x)\n",
    "# Strings (double quote)\n",
    "y = \"it's\" \n",
    "print (y)"
   ]
  },
  {
   "cell_type": "markdown",
   "metadata": {},
   "source": [
    "Rules for Python variables:"
   ]
  },
  {
   "cell_type": "markdown",
   "metadata": {},
   "source": [
    "1. Variables must start with a letter, then can have a variety of numbers, underscores, and letters, but not special characters like '#' '@' etc."
   ]
  },
  {
   "cell_type": "code",
   "execution_count": null,
   "metadata": {},
   "outputs": [],
   "source": [
    "a_1 = 2\n",
    "print (a_1)\n"
   ]
  },
  {
   "cell_type": "markdown",
   "metadata": {},
   "source": [
    "2. They cannot start with a number. Can you fix the bug below?"
   ]
  },
  {
   "cell_type": "code",
   "execution_count": null,
   "metadata": {},
   "outputs": [],
   "source": [
    "1x = 2\n",
    "print (1x)"
   ]
  },
  {
   "cell_type": "markdown",
   "metadata": {},
   "source": [
    "3. All variables and python commands are case-sensitive: age Age, aGe, etc. are different variables according to Python"
   ]
  },
  {
   "cell_type": "code",
   "execution_count": null,
   "metadata": {},
   "outputs": [],
   "source": [
    "age = 25\n",
    "# can you fix this bug?\n",
    "print (Age)"
   ]
  },
  {
   "cell_type": "markdown",
   "metadata": {},
   "source": [
    "4. Python allows you to assign values to multiple variables in one line:"
   ]
  },
  {
   "cell_type": "code",
   "execution_count": null,
   "metadata": {},
   "outputs": [],
   "source": [
    "# assign multiple variables in one lie\n",
    "x, y, z = \"Orange\", \"Banana\", \"Cherry\"\n",
    "print(x)\n",
    "print(y)\n",
    "print(z)"
   ]
  },
  {
   "cell_type": "markdown",
   "metadata": {},
   "source": [
    "5. And allows you to assign the same value to multiple variables in one line:"
   ]
  },
  {
   "cell_type": "code",
   "execution_count": null,
   "metadata": {},
   "outputs": [],
   "source": [
    "x = y = z = \"Orange\"\n",
    "print(x)\n",
    "print(y)\n",
    "print(z)"
   ]
  },
  {
   "cell_type": "markdown",
   "metadata": {},
   "source": [
    "6. Variables are **global** across a notebook: This means they have the same value across different cells. This holds true even for cells located above us in the notebook, but the value only becomes defined once we have executed that cell during this session. Be careful!!"
   ]
  },
  {
   "cell_type": "code",
   "execution_count": null,
   "metadata": {},
   "outputs": [],
   "source": [
    "print(age) # If we change the value above, it will change here too the next time we execute this cell."
   ]
  },
  {
   "cell_type": "code",
   "execution_count": null,
   "metadata": {},
   "outputs": [],
   "source": [
    "# Why doesn't this work? Would it work if you first defined 'newvalue' in a different cell before running this one? \n",
    "# Which value would be printed in that case?\n",
    "print(newvalue)\n",
    "newvalue=2"
   ]
  },
  {
   "cell_type": "markdown",
   "metadata": {},
   "source": [
    "----"
   ]
  },
  {
   "cell_type": "markdown",
   "metadata": {},
   "source": [
    "# 2. Numbers and variable 'types'"
   ]
  },
  {
   "cell_type": "markdown",
   "metadata": {},
   "source": [
    "There are three numeric types in Python:\n",
    "    \n",
    "1. int: or integer, is a whole number, positive or negative, without decimals, of unlimited length. Some programming languages have a maximum value for integers, after which there will be an \"overflow\" error. Python avoids this by expanding the size of the container used to store the data automatically. Feel free to try a googol: Noting that an exponent in python is \\*\\*, this would be 10**100\n",
    "\n",
    "2. float: or \"floating point number\", is a number containing one or more decimals. The name is historical but you can imagine that there is a decimal point \"floating\" around in the number. For very large numbers, python expresses scientific notation with an \"e\" to indicate the power of 10. E.g. 3e4 = 3x10\\*\\*4 = 30,000. Note that a number in scientific notation is always a float and never an int.\n",
    "\n",
    "3. complex: A complex number is written with a \"j\" as the imaginary part. We won't use this much but it's good to know about.\n",
    "    \n",
    "Example"
   ]
  },
  {
   "cell_type": "code",
   "execution_count": null,
   "metadata": {},
   "outputs": [],
   "source": [
    "# int\n",
    "x = 1 \n",
    "xx = 938753824839682374\n",
    "xxx = -329478353\n",
    "\n",
    "# float\n",
    "y = 2.75\n",
    "yy = 3.329843\n",
    "yyy = -34.2343\n",
    "yyyy = 3e4\n",
    "\n",
    "# complex\n",
    "z = 2+1j\n",
    "\n",
    "print(\"x =\", x)\n",
    "print(\"y =\", y)\n",
    "print(\"z =\", z)\n",
    "print(\"x+y=\", x+y)\n",
    "print(\"x+z=\", x+z)\n"
   ]
  },
  {
   "cell_type": "markdown",
   "metadata": {},
   "source": [
    "To find out the type of any object in Python, use the type() function"
   ]
  },
  {
   "cell_type": "code",
   "execution_count": null,
   "metadata": {},
   "outputs": [],
   "source": [
    "# verify type of x, y, z\n",
    "print(type(xxx))\n",
    "print(type(yyyy))\n",
    "print(type(z))"
   ]
  },
  {
   "cell_type": "markdown",
   "metadata": {},
   "source": [
    "We can convert from one type to another with the int(), float(), and complex() methods"
   ]
  },
  {
   "cell_type": "code",
   "execution_count": null,
   "metadata": {},
   "outputs": [],
   "source": [
    "#convert from int to float:\n",
    "print(x)\n",
    "a = float(x)\n",
    "print (a)"
   ]
  },
  {
   "cell_type": "code",
   "execution_count": null,
   "metadata": {},
   "outputs": [],
   "source": [
    "#convert from float to int:\n",
    "print(y)\n",
    "b = int(y)\n",
    "print (b) # the value has changed, why?"
   ]
  },
  {
   "cell_type": "code",
   "execution_count": null,
   "metadata": {},
   "outputs": [],
   "source": [
    "# the int() function is not very smart about rounding - it always rounds down.\n",
    "# If you want to round more carefully, try the function round():\n",
    "print(y)\n",
    "b=round(y)\n",
    "print(b)"
   ]
  },
  {
   "cell_type": "code",
   "execution_count": null,
   "metadata": {},
   "outputs": [],
   "source": [
    "#convert from int to complex:\n",
    "print(xxx)\n",
    "c = complex(xxx)\n",
    "print (c)"
   ]
  },
  {
   "cell_type": "markdown",
   "metadata": {},
   "source": [
    "----"
   ]
  },
  {
   "cell_type": "markdown",
   "metadata": {},
   "source": [
    "# 3. Strings"
   ]
  },
  {
   "cell_type": "markdown",
   "metadata": {},
   "source": [
    "There is another data type in Python: string.\n",
    "\n",
    "Strings in Python are just \"strings\" of characters, without an associated numeric value. They may contain numbers, letters, and other characters. To define a stirng, it should be surrounded by either single quotation marks ' or double quotation marks \". We can display a string with the print () function:"
   ]
  },
  {
   "cell_type": "code",
   "execution_count": null,
   "metadata": {},
   "outputs": [],
   "source": [
    "# example\n",
    "print ('Hello')\n",
    "print (\"Hello\")\n",
    "\n",
    "# print can also print more than one thing on the same line, separated by commas\n",
    "print('This','is','a','list','of','words','to','print.')"
   ]
  },
  {
   "cell_type": "markdown",
   "metadata": {},
   "source": [
    "Assigning a string to a variable is done with the variable name followed by an equal sign and the string"
   ]
  },
  {
   "cell_type": "code",
   "execution_count": null,
   "metadata": {},
   "outputs": [],
   "source": [
    "# assign string to a variable\n",
    "a = \"Hello,\"\n",
    "b = \"world\"\n",
    "print(a,b,\"!\")\n",
    "print(type(a))"
   ]
  },
  {
   "cell_type": "markdown",
   "metadata": {},
   "source": [
    "We can assign a multiline string to a variable by using three quotes (either single or double)"
   ]
  },
  {
   "cell_type": "code",
   "execution_count": null,
   "metadata": {},
   "outputs": [],
   "source": [
    "a = '''Today I am learning basics programming in Python'''\n",
    "b = \"\"\"Today we're learning basics programming in Python\"\"\"\n",
    "print (a)\n",
    "print (b)"
   ]
  },
  {
   "cell_type": "markdown",
   "metadata": {},
   "source": [
    "We can access elements of the string by using square brackets. We will see this later, strings behave the same as lists and arrays."
   ]
  },
  {
   "cell_type": "code",
   "execution_count": null,
   "metadata": {},
   "outputs": [],
   "source": [
    "# get the character at position 1\n",
    "a = \"Hello World!\"\n",
    "print(a[0])\n",
    "\n",
    "# get the characters from position 2 to position 5\n",
    "print (a[2:5])\n",
    "\n",
    "# get the last character by using a negative index\n",
    "print (a[-1])\n",
    "\n",
    "# get the length of a string in characters\n",
    "print(len(a))"
   ]
  },
  {
   "cell_type": "markdown",
   "metadata": {},
   "source": [
    "\"Adding\" strings together is possible, they simply become connected together as one string."
   ]
  },
  {
   "cell_type": "code",
   "execution_count": null,
   "metadata": {},
   "outputs": [],
   "source": [
    "x = 'Python is '  # note that we included a space at the end of this string. What happens if you take this out?\n",
    "y = 'awesome!'\n",
    "z =  x + y\n",
    "print(z)"
   ]
  },
  {
   "cell_type": "markdown",
   "metadata": {},
   "source": [
    "----"
   ]
  },
  {
   "cell_type": "markdown",
   "metadata": {},
   "source": [
    "# 4. Expressions"
   ]
  },
  {
   "cell_type": "markdown",
   "metadata": {},
   "source": [
    "An \"expression\" is simply a line of code to be executed by Python. It may be a variable by itself, or a simple calculation, or something much more complex. Expressions can be combination of values, variables and operators."
   ]
  },
  {
   "cell_type": "code",
   "execution_count": null,
   "metadata": {},
   "outputs": [],
   "source": [
    "# simple expression\n",
    "x = 3\n",
    "y = 5\n",
    "\n",
    "# complex expression\n",
    "print (1+1)\n",
    "print (x+y)\n",
    "print (x+6)\n",
    "print (x*x + x*y - 4)"
   ]
  },
  {
   "cell_type": "markdown",
   "metadata": {},
   "source": [
    "Parentheses are used to indicate order of operations and grouping"
   ]
  },
  {
   "cell_type": "code",
   "execution_count": null,
   "metadata": {},
   "outputs": [],
   "source": [
    "# without parantheses\n",
    "x = 1+2*3 \n",
    "print (x)\n",
    "\n",
    "# with parentheses\n",
    "y = (1+2)*3\n",
    "print (y)"
   ]
  },
  {
   "cell_type": "markdown",
   "metadata": {},
   "source": [
    "Different types of expressions"
   ]
  },
  {
   "cell_type": "code",
   "execution_count": null,
   "metadata": {},
   "outputs": [],
   "source": [
    "# Algebraic: 2 + 2, 8 - 4, 7/2, etc\n",
    "# Boolean:\n",
    "# return True or False: 2 < 4 (True), 1 > 3 (False)\n",
    "# involve comparison operators: <, >, ==, !=, <=, >="
   ]
  },
  {
   "cell_type": "markdown",
   "metadata": {},
   "source": [
    "----"
   ]
  },
  {
   "cell_type": "markdown",
   "metadata": {},
   "source": [
    "# 5. Lists"
   ]
  },
  {
   "cell_type": "markdown",
   "metadata": {},
   "source": [
    "Lists are sequences of objects - the objects may be integers, strings, or something else. Lists are written with square brackets."
   ]
  },
  {
   "cell_type": "code",
   "execution_count": null,
   "metadata": {},
   "outputs": [],
   "source": [
    "# creat a list\n",
    "thislist = [\"apple\", \"banana\", \"cherry\"]\n",
    "print(thislist)"
   ]
  },
  {
   "cell_type": "markdown",
   "metadata": {},
   "source": [
    "Just like strings, we can access elements of lists by their 'index'. All lists in python are indexed by integers, **starting with zero** (this is a common cause of confusion in Python!)\n",
    "\n",
    "Use the indexing operator [ ] to access and modify individual items of the list"
   ]
  },
  {
   "cell_type": "code",
   "execution_count": null,
   "metadata": {},
   "outputs": [],
   "source": [
    "# access items\n",
    "thislist = [\"apple\", \"banana\", \"cherry\"]\n",
    "print(thislist[1])"
   ]
  },
  {
   "cell_type": "code",
   "execution_count": null,
   "metadata": {},
   "outputs": [],
   "source": [
    "#modify items\n",
    "thislist[0] = 'orange'\n",
    "print(thislist)"
   ]
  },
  {
   "cell_type": "markdown",
   "metadata": {},
   "source": [
    "We can also do negative indexing, begin accessing the item from the end (-1 refers to the last item), -2 refers to the second last item etc"
   ]
  },
  {
   "cell_type": "code",
   "execution_count": null,
   "metadata": {},
   "outputs": [],
   "source": [
    "# negative indexing\n",
    "thislist = [\"apple\", \"banana\", \"cherry\"]\n",
    "print(thislist[-1])"
   ]
  },
  {
   "cell_type": "markdown",
   "metadata": {},
   "source": [
    "We can specify a range of indexes by specifying where to start and where to end the range"
   ]
  },
  {
   "cell_type": "code",
   "execution_count": null,
   "metadata": {},
   "outputs": [],
   "source": [
    "# range of indexes ()\n",
    "thislist = [\"apple\", \"banana\", \"cherry\", \"orange\", \"kiwi\", \"melon\", \"mango\"]\n",
    "print(thislist[0:2])"
   ]
  },
  {
   "cell_type": "markdown",
   "metadata": {},
   "source": [
    "To change the value of a specific item, refer to the index number"
   ]
  },
  {
   "cell_type": "code",
   "execution_count": null,
   "metadata": {},
   "outputs": [],
   "source": [
    "thislist = [\"apple\", \"banana\", \"cherry\"]\n",
    "thislist[1] = \"mango\"\n",
    "print(thislist)"
   ]
  },
  {
   "cell_type": "markdown",
   "metadata": {},
   "source": [
    "To determine how many items a list has, use the len() method:"
   ]
  },
  {
   "cell_type": "code",
   "execution_count": null,
   "metadata": {},
   "outputs": [],
   "source": [
    "thislist = [\"apple\", \"banana\", \"cherry\"]\n",
    "print(len(thislist))"
   ]
  },
  {
   "cell_type": "markdown",
   "metadata": {},
   "source": [
    "To add an item to the end of the list, use the append() method"
   ]
  },
  {
   "cell_type": "code",
   "execution_count": null,
   "metadata": {},
   "outputs": [],
   "source": [
    "thislist = [\"apple\", \"banana\", \"cherry\"]\n",
    "thislist.append(\"orange\")\n",
    "print(thislist)"
   ]
  },
  {
   "cell_type": "markdown",
   "metadata": {},
   "source": [
    "To add an item at the specified index, use the insert() method"
   ]
  },
  {
   "cell_type": "code",
   "execution_count": null,
   "metadata": {},
   "outputs": [],
   "source": [
    "thislist = [\"apple\", \"banana\", \"cherry\"]\n",
    "thislist.insert(1, \"orange\")\n",
    "print(thislist)"
   ]
  },
  {
   "cell_type": "markdown",
   "metadata": {},
   "source": [
    "### More detail: what is a list?"
   ]
  },
  {
   "cell_type": "code",
   "execution_count": null,
   "metadata": {},
   "outputs": [],
   "source": [
    "print(type(thislist))"
   ]
  },
  {
   "cell_type": "markdown",
   "metadata": {},
   "source": [
    "We can see that a list is a different thing than we have worked with before - not an integer, string, or float - it is its own type called \"list\". \n",
    "\n",
    "Without going into extensive detail about object-oriented programming, Lists in python are just another kind of \"object\". Objects can have methods associated with them, that act on the object to modify it. In python, we access methods associated with an object by putting a \".\" after the name and then typing the method. For example:"
   ]
  },
  {
   "cell_type": "markdown",
   "metadata": {},
   "source": [
    "To remove an item at a specified index from a list, use the method \"pop\". We pass in the index of the item we want to remove inside parentheses: this is called passing an \"argument\" to the method."
   ]
  },
  {
   "cell_type": "code",
   "execution_count": null,
   "metadata": {},
   "outputs": [],
   "source": [
    "thislist = [\"apple\", \"banana\", \"cherry\"]\n",
    "# remove the first item:\n",
    "thislist.pop(0)\n",
    "print(thislist)"
   ]
  },
  {
   "cell_type": "markdown",
   "metadata": {},
   "source": [
    "To remove specified item from a list, use \"remove\":"
   ]
  },
  {
   "cell_type": "code",
   "execution_count": null,
   "metadata": {},
   "outputs": [],
   "source": [
    "thislist = [\"apple\", \"banana\", \"cherry\"]\n",
    "thislist.remove(\"banana\")\n",
    "print(thislist)"
   ]
  },
  {
   "cell_type": "markdown",
   "metadata": {},
   "source": [
    "To empty the list, use \"clear\": Note that this method does not require any arguments inside the parentheses, but we still put parentheses at the end of the method name, so that python can recognize we are using a method."
   ]
  },
  {
   "cell_type": "code",
   "execution_count": null,
   "metadata": {},
   "outputs": [],
   "source": [
    "thislist = [\"apple\", \"banana\", \"cherry\"]\n",
    "thislist.clear()\n",
    "print(thislist)"
   ]
  },
  {
   "cell_type": "markdown",
   "metadata": {},
   "source": [
    "To copy a list, use copy(): note that this method has an output, which we capture by using an equals sign to assign the output to a new variable."
   ]
  },
  {
   "cell_type": "code",
   "execution_count": null,
   "metadata": {},
   "outputs": [],
   "source": [
    "thislist = [\"apple\", \"banana\", \"cherry\"]\n",
    "mylist = thislist.copy()\n",
    "print(mylist)"
   ]
  },
  {
   "cell_type": "markdown",
   "metadata": {},
   "source": [
    "To join two lists"
   ]
  },
  {
   "cell_type": "code",
   "execution_count": null,
   "metadata": {},
   "outputs": [],
   "source": [
    "# join two lists into one list\n",
    "list1 = [\"a\", \"b\" , \"c\"]\n",
    "list2 = [1, 2, 3]\n",
    "\n",
    "# the first way does not use a list method, we simply add them together:\n",
    "list3 = list1 + list2\n",
    "print(list3)\n",
    "\n",
    "# another way joining two lists is using extend(), whose purpose is to add elements \n",
    "# from one list to another list\n",
    "list1.extend(list2)\n",
    "print(list1)"
   ]
  },
  {
   "cell_type": "markdown",
   "metadata": {},
   "source": [
    "We use sort() to sort elements of a list, and reverse() to reverse the order"
   ]
  },
  {
   "cell_type": "code",
   "execution_count": null,
   "metadata": {},
   "outputs": [],
   "source": [
    "thislist = [\"apple\", \"cherry\", \"banana\"]\n",
    "# sort elements of a list (in this case, the sorting is alphabetical, but it could be numeric if the elements were numbers)\n",
    "thislist.sort()\n",
    "print(thislist)\n",
    "\n",
    "# reverse the order of a list\n",
    "thislist.reverse()\n",
    "print (thislist)"
   ]
  },
  {
   "cell_type": "markdown",
   "metadata": {},
   "source": [
    "Just like int() and float(), it is also possible to use the list() constructor to make a new list. In this case, we have to pass several elements together to define the list elements, so we can group them together with parentheses inside the list() function (there will be two sets of parentheses).\n"
   ]
  },
  {
   "cell_type": "code",
   "execution_count": null,
   "metadata": {},
   "outputs": [],
   "source": [
    "thislist = list((\"apple\", \"banana\", \"cherry\")) # note the double round-brackets\n",
    "print(thislist)"
   ]
  },
  {
   "cell_type": "markdown",
   "metadata": {},
   "source": [
    "----"
   ]
  },
  {
   "cell_type": "markdown",
   "metadata": {},
   "source": [
    "# 6. Arrays"
   ]
  },
  {
   "cell_type": "markdown",
   "metadata": {},
   "source": [
    "Arrays are similar to lists, but they can be nested (lists of lists). Usually arrays are numeric."
   ]
  },
  {
   "cell_type": "code",
   "execution_count": null,
   "metadata": {},
   "outputs": [],
   "source": [
    "# example\n",
    "thisarray = [[0,1],[1,0]]\n",
    "print (thisarray)"
   ]
  },
  {
   "cell_type": "markdown",
   "metadata": {},
   "source": [
    "We can access elements of the array by referring to two index numbers: first for the outer list, second for the inner list."
   ]
  },
  {
   "cell_type": "code",
   "execution_count": null,
   "metadata": {},
   "outputs": [],
   "source": [
    "thisarray = [[0,1],[2,3]]\n",
    "print(thisarray)\n",
    "print (thisarray[1][0])"
   ]
  },
  {
   "cell_type": "markdown",
   "metadata": {},
   "source": [
    "We can also modify elements by referring to the index number"
   ]
  },
  {
   "cell_type": "code",
   "execution_count": null,
   "metadata": {},
   "outputs": [],
   "source": [
    "thisarray = [[0,1],[2,3]]\n",
    "thisarray[1][0] = 4\n",
    "print (thisarray)"
   ]
  },
  {
   "cell_type": "markdown",
   "metadata": {},
   "source": [
    "By default, arrays in Python are not very powerful. We can make them much more powerful by making them into a new type of array called \"numpy array\". \n",
    "\n",
    "Numpy (short for \"numerical python\") is a module containing many additional functions that we will almost always use in our programs. To use numpy, first we have to \"import\" it. The simplest way is simply to type \"import numpy\" as an expression, but more often you will see it as follows:"
   ]
  },
  {
   "cell_type": "code",
   "execution_count": null,
   "metadata": {},
   "outputs": [],
   "source": [
    "import numpy as np"
   ]
  },
  {
   "cell_type": "markdown",
   "metadata": {},
   "source": [
    "Using the 'as' keyword, we have re-named the numpy library with a shorter name 'np'. This is not necessary but has become a standard in lots of python code, so by doing this we can make our code easier for others to read.\n",
    "\n",
    "Now we can use numpy's functions by calling them via 'np.function()'. This is like the .pop() method we used for lists, but now we have a powerful set of many computational variables and functions we can use. For example:"
   ]
  },
  {
   "cell_type": "code",
   "execution_count": null,
   "metadata": {},
   "outputs": [],
   "source": [
    "# numpy has a builtin value for pi, to save us typing it out all the time.\n",
    "print(np.pi)\n",
    "\n",
    "# numpy has trigonometric functions like np.sin() and np.cos().\n",
    "print(np.cos(np.pi))"
   ]
  },
  {
   "cell_type": "markdown",
   "metadata": {},
   "source": [
    "Now, let's convert our array to a numpy array. Note that it displays in a more readable format, which is nice:"
   ]
  },
  {
   "cell_type": "code",
   "execution_count": null,
   "metadata": {},
   "outputs": [],
   "source": [
    "thisarray=np.array([[0,1],[2,3]])\n",
    "print(thisarray)"
   ]
  },
  {
   "cell_type": "markdown",
   "metadata": {},
   "source": [
    "Let's see what happens if we add two arrays:"
   ]
  },
  {
   "cell_type": "code",
   "execution_count": null,
   "metadata": {},
   "outputs": [],
   "source": [
    "a=np.array([[0,1],[2,3]])\n",
    "b=np.array([[1,1],[4,1]])\n",
    "print(a)\n",
    "print(b)\n",
    "print(a+b)"
   ]
  },
  {
   "cell_type": "markdown",
   "metadata": {},
   "source": [
    "We can flip an array across its diagonal by using np.transpose()"
   ]
  },
  {
   "cell_type": "code",
   "execution_count": null,
   "metadata": {},
   "outputs": [],
   "source": [
    "a=np.array([[0,1],[2,3]])\n",
    "print(a)\n",
    "print(np.transpose(a))"
   ]
  },
  {
   "cell_type": "markdown",
   "metadata": {},
   "source": [
    "Two important numpy functions that operate on arrays are shape() and size(). Based on this output, what do you think they do?"
   ]
  },
  {
   "cell_type": "code",
   "execution_count": null,
   "metadata": {},
   "outputs": [],
   "source": [
    "a=np.array([[0,1],[2,3]])\n",
    "print(np.shape(a))\n",
    "print(np.size(a))"
   ]
  },
  {
   "cell_type": "markdown",
   "metadata": {},
   "source": [
    "If we have a 2d array and want to get just one row or column, we can \"slice\" the array as follows:"
   ]
  },
  {
   "cell_type": "code",
   "execution_count": null,
   "metadata": {},
   "outputs": [],
   "source": [
    "a=np.array([[0,1],[2,3]])\n",
    "print(a)\n",
    "# numpy arrrays can be accessed via [row, column] indices.\n",
    "print(\"a[0,0] is\", a[0,0])\n",
    "# The \":\" operator means to take all elements along that dimension, e.g. a[0,:] would be the first row and all columns.\n",
    "print(\"a[0,:] is\", a[0,:])\n",
    "# meanwhile, a[:,0] would be the first column and all rows. \n",
    "print(\"a[:,0] is\", a[:,0])\n",
    "# Note that in this case, the array is still printed horizontally because it has become a 1d array."
   ]
  },
  {
   "cell_type": "markdown",
   "metadata": {},
   "source": [
    "----"
   ]
  },
  {
   "cell_type": "markdown",
   "metadata": {},
   "source": [
    "# 7. Conditionals"
   ]
  },
  {
   "cell_type": "markdown",
   "metadata": {},
   "source": [
    "The \"if\" statement controls code execution, and is called a 'conditional'. In pythyon, the bodies of the if statement are defined by indentation, the general format is as follows:\n",
    "\n",
    "    if expression:\n",
    "        statement(s) to run if expression is true\n",
    "    else:\n",
    "        statement(s) to run if expression is false\n",
    "        \n",
    "Python supports the usual logical conditions from mathematics:\n",
    "\n",
    "    a == b     a equal to b (note TWO equals signs)\n",
    "    a != b     a not equal to b \n",
    "    a < b      a is less than b\n",
    "    a <= b     a is less than or equal to b\n",
    "    a > b      a is greater than b\n",
    "    a >= b     a is greater than or equal to b"
   ]
  },
  {
   "cell_type": "code",
   "execution_count": null,
   "metadata": {},
   "outputs": [],
   "source": [
    "# example of conditional \"if\"\n",
    "a = 33\n",
    "b = 1\n",
    "if b > a:\n",
    "    print(\"b is greater than a\")\n",
    "else:\n",
    "    print(\"b is less than or equal to a\")\n",
    "    \n",
    "# assignment: change the values of a and b so this code prints out the other statement. \n",
    "# part 2: what happens if you make b into a non-numeric type, like a string?"
   ]
  },
  {
   "cell_type": "markdown",
   "metadata": {},
   "source": [
    "Pyton relies on indentation (whitespace at the beginning of statements), if we forget it, Python will give an error"
   ]
  },
  {
   "cell_type": "code",
   "execution_count": null,
   "metadata": {},
   "outputs": [],
   "source": [
    "# example of conditional \"if\" with an indentation error\n",
    "a = 33\n",
    "b = 200\n",
    "if b > a:\n",
    "print(\"b is greater than a\")"
   ]
  },
  {
   "cell_type": "markdown",
   "metadata": {},
   "source": [
    "We can form Boolean expressions by using the \"or\", \"and\", and \"not\" keywords:"
   ]
  },
  {
   "cell_type": "code",
   "execution_count": null,
   "metadata": {},
   "outputs": [],
   "source": [
    "# example of \"if\" using \"and\"\n",
    "a = 3\n",
    "b = 5\n",
    "c = 8\n",
    "if b >= a and b <= c:\n",
    "    print ('b is between a and c')\n",
    "else:\n",
    "    print ('b is not between a and c')\n",
    "    \n",
    "# assignment: change the values to get the other statement"
   ]
  },
  {
   "cell_type": "code",
   "execution_count": null,
   "metadata": {},
   "outputs": [],
   "source": [
    "# example of \"if\" using \"not\" and \"or\"\n",
    "a = 3\n",
    "b = 5\n",
    "c = 8\n",
    "if not (b < a and b > c):\n",
    "    print ('b is still between a and c')\n",
    "    \n",
    "# user beware: boolean logic can get very confusing quickly!!"
   ]
  },
  {
   "cell_type": "markdown",
   "metadata": {},
   "source": [
    "To handle multiple cases, use the \"elif\" and \"else\" statements in this format:\n",
    "\n",
    "     if <my first condition is met>:\n",
    "        <do action 1>\n",
    "     elif <my second condition is met>:\n",
    "        <do action 2>\n",
    "     else:\n",
    "        <do action for all other cases>\n",
    "        \n",
    "     note: the \"elif\" statement is a python way of saying if the previous conditions were not true,  \n",
    "         then try this      condition"
   ]
  },
  {
   "cell_type": "code",
   "execution_count": null,
   "metadata": {},
   "outputs": [],
   "source": [
    "# example 1 of conditional if and elif\n",
    "a = 5\n",
    "b = 3\n",
    "c = 8\n",
    "if b >= a and b <= c:\n",
    "    print ('b is between a and c')\n",
    "elif a >= b and a <= c:\n",
    "    print ('a is between b and c')\n",
    "    \n",
    "# assignment: add an additional elif to this, which handles the case that c is between a and b."
   ]
  },
  {
   "cell_type": "code",
   "execution_count": null,
   "metadata": {},
   "outputs": [],
   "source": [
    "# example 2 of conditional if, elif, else\n",
    "a = 3\n",
    "b = 3\n",
    "c = 1\n",
    "if b >= a and b <= c:\n",
    "    print ('b is between a and c')\n",
    "elif a >= b and a <= c:\n",
    "    print ('a is between b and c')\n",
    "else:\n",
    "    print ('something else is true')"
   ]
  },
  {
   "cell_type": "markdown",
   "metadata": {},
   "source": [
    "----"
   ]
  },
  {
   "cell_type": "markdown",
   "metadata": {},
   "source": [
    "# 8. Loops"
   ]
  },
  {
   "cell_type": "markdown",
   "metadata": {},
   "source": [
    "Loops are important in all programming languanges as they allow us to execute a block of code repeteady. To do iterations, we use \"for\" and \"while\" commands. The \"for\" command is written in this format:\n",
    "\n",
    "    for variable in sequence:\n",
    "         statements\n",
    "         \n",
    "    where:\n",
    "    variable = a temporary variable to store an element of a list that we will work with. You can use any letter: i, j, k, etc\n",
    "    sequence = a sequence of values assigned to variable in each iteration. \n",
    "    statement(s) = code to be executed until for loop terminates\n",
    "    colon (:) = a must have in for loop, will raise an error if we forget the colon\n",
    "    note: for statement will iterate over all elements of sequence until no more elements are available\n",
    "    \n",
    "For example, if you are asked to print five different values, instead of typing print five times:"
   ]
  },
  {
   "cell_type": "code",
   "execution_count": null,
   "metadata": {},
   "outputs": [],
   "source": [
    "print ('value 1')\n",
    "print ('value 2')\n",
    "print ('value 3')\n",
    "print ('value 4')\n",
    "print ('value 5')"
   ]
  },
  {
   "cell_type": "markdown",
   "metadata": {},
   "source": [
    "you can do the same task by using a for loop:"
   ]
  },
  {
   "cell_type": "code",
   "execution_count": null,
   "metadata": {},
   "outputs": [],
   "source": [
    "for i in [1,2,3,'x',5]:\n",
    "    print(\"value\",i)"
   ]
  },
  {
   "cell_type": "code",
   "execution_count": null,
   "metadata": {},
   "outputs": [],
   "source": [
    "for i in range(5):\n",
    "    print(\"value\",i)"
   ]
  },
  {
   "cell_type": "markdown",
   "metadata": {},
   "source": [
    "In the above example, we made a list of 5 numbers, and each one will get stored in the variable 'i' with each execution. Becasue the normal way to use loops is to iterate over a list of sequential integers, we often use the range() function.\n",
    "\n",
    "This is how we can use the range() function:\n",
    "\n",
    "    range(n): generate numbers from 0 to (n-1)\n",
    "    range(x,y): generate numbers from x to (y-1)\n",
    "    range(start,end,step_size): generate numbers from start to end with step_size as incremental factor in each iteration. \n",
    "    step_size is default to 1 if it is not explicitly mentioned.\n",
    "        \n",
    "    note: range() function works only with integers (positive or negative), you cannot pass strings\n",
    "          or floats\n",
    "          \n",
    "    another note: a tricky thing about range() is that the end value is never included! This is because of the zero-index issue in Python. Be careful!!\n",
    "        \n",
    "Example of range() function in for loop."
   ]
  },
  {
   "cell_type": "code",
   "execution_count": null,
   "metadata": {},
   "outputs": [],
   "source": [
    "# example for range(n): note that it generates 5 values, but the number 5 is not included.\n",
    "for i in range(5):\n",
    "    print (i)"
   ]
  },
  {
   "cell_type": "code",
   "execution_count": null,
   "metadata": {},
   "outputs": [],
   "source": [
    "# example for range(x,y): again note that the end value is not included!\n",
    "for j in range(5,10):\n",
    "    print (j)"
   ]
  },
  {
   "cell_type": "code",
   "execution_count": null,
   "metadata": {},
   "outputs": [],
   "source": [
    "# example for range(start,end,step_size)\n",
    "for k in range(1,10,2):\n",
    "    print (k)"
   ]
  },
  {
   "cell_type": "markdown",
   "metadata": {},
   "source": [
    "Explore by yourself running for loop using different step_size and trying out negative integers"
   ]
  },
  {
   "cell_type": "markdown",
   "metadata": {},
   "source": [
    "In for loops, we can also iterate over a list by using combination of range() and len(), another built-in function in python to calculate length. The idea is to first calculate the length of the list and then iterate over the sequence within the range of this length.\n",
    "\n",
    "This is a more powerful way to write the for loop, because later on, our list length may change but the for loop will still work correctly."
   ]
  },
  {
   "cell_type": "code",
   "execution_count": null,
   "metadata": {},
   "outputs": [],
   "source": [
    "# create a list\n",
    "my_list = ['Apple','Mango', 'Orange', 'Watermelon']\n",
    "\n",
    "# iterating by index\n",
    "for i in range(len(my_list)):\n",
    "    print (my_list[i])"
   ]
  },
  {
   "cell_type": "markdown",
   "metadata": {},
   "source": [
    "### while loops\n",
    "The \"while\" command is written in this format:\n",
    "\n",
    "    while condition:\n",
    "        statement(s)\n",
    "        \n",
    "    where:\n",
    "    condition: an expression that will be evaluated in Boolean context: the loop body is executed continuously if it is still true, it will stop once the expression becomes false.\n",
    "    statement: code to be executed repeteadly until condition becomens false"
   ]
  },
  {
   "cell_type": "code",
   "execution_count": null,
   "metadata": {},
   "outputs": [],
   "source": [
    "# example: while loop, using the \"+=\" operator to add 1 to i each loop.\n",
    "i = 1\n",
    "while i<6:\n",
    "    print(i)\n",
    "    i += 1"
   ]
  },
  {
   "cell_type": "markdown",
   "metadata": {},
   "source": [
    "We can also run a block of code by using the \"else\" statement once the condition is no longer true:"
   ]
  },
  {
   "cell_type": "code",
   "execution_count": null,
   "metadata": {},
   "outputs": [],
   "source": [
    "# example: while loop with else statement\n",
    "i = 1\n",
    "while i < 6:\n",
    "    print(i)\n",
    "    i += 1\n",
    "else:\n",
    "    print(\"i is no longer less than 6\")"
   ]
  },
  {
   "cell_type": "markdown",
   "metadata": {},
   "source": [
    "### A warning about while loops\n",
    "If you create a condition that is always true, the code will execute **forever**. Literally! \n",
    "\n",
    "For example, imagine we made the following typo in the code above:\n",
    "\n",
    "    i = 1\n",
    "    while i<6:\n",
    "        print(i)\n",
    "        i = 1    # oops, this does not increment i, it just stays the same!\n",
    "        \n",
    "If we execute this code, it will keep going forever and your notebook will become filled with a very long list of the number \"1\", and it may even freeze your computer! To stop it, note the square \"stop\" button at the top of the page. When trying out while loops, user beware!"
   ]
  },
  {
   "cell_type": "markdown",
   "metadata": {},
   "source": [
    "----"
   ]
  },
  {
   "cell_type": "markdown",
   "metadata": {},
   "source": [
    "# 9. Functions"
   ]
  },
  {
   "cell_type": "markdown",
   "metadata": {},
   "source": [
    "A function is a block of code which only runs when it is called by name. We use the \"def\" statement to create a function. We can send any data types (string, number, list, numpy array, etc) to a function via the named variables inside parentheses, and they will be treated as the same data type inside the function. You can name your function almost anything, except for Python’s reserved words: \n",
    "\n",
    "    and, def, del, for, is, raise, assert, elif, from, lambda, return, break, else, global, not, try, class, except, if, or, while, continue, exec, import, pass, yield"
   ]
  },
  {
   "cell_type": "code",
   "execution_count": null,
   "metadata": {},
   "outputs": [],
   "source": [
    "# example of a function that uses a for loop\n",
    "def myloop(N):\n",
    "    for i in range(N):\n",
    "        print ('iteration', i)\n",
    "\n",
    "# now we call the function, passing in the value 5 for N:\n",
    "myloop(5)"
   ]
  },
  {
   "cell_type": "code",
   "execution_count": null,
   "metadata": {},
   "outputs": [],
   "source": [
    "# example of a function  that does not take any input arguments:\n",
    "def myfunction1():\n",
    "    print ('Hello from a function!')"
   ]
  },
  {
   "cell_type": "markdown",
   "metadata": {},
   "source": [
    "To call a function, use the function name followed by parenthesis"
   ]
  },
  {
   "cell_type": "code",
   "execution_count": null,
   "metadata": {},
   "outputs": [],
   "source": [
    "# call this function:\n",
    "myfunction1()"
   ]
  },
  {
   "cell_type": "markdown",
   "metadata": {},
   "source": [
    "We can pass as many values as we want to inside the parentheses, just separate them with a comma"
   ]
  },
  {
   "cell_type": "code",
   "execution_count": null,
   "metadata": {},
   "outputs": [],
   "source": [
    "# another example of a function\n",
    "def myfunction2(a,b,c):\n",
    "    d = a + b + c\n",
    "    print (d)"
   ]
  },
  {
   "cell_type": "code",
   "execution_count": null,
   "metadata": {},
   "outputs": [],
   "source": [
    "# run this by pressing shift + enter\n",
    "myfunction2(1,3,6)"
   ]
  },
  {
   "cell_type": "markdown",
   "metadata": {},
   "source": [
    "To let a function return a value, use the \"return\" statement. "
   ]
  },
  {
   "cell_type": "code",
   "execution_count": null,
   "metadata": {},
   "outputs": [],
   "source": [
    "# another example of a function using \"return\" statement\n",
    "def myfunction3(a,b,c):\n",
    "    d = a + b + c\n",
    "    return d"
   ]
  },
  {
   "cell_type": "code",
   "execution_count": null,
   "metadata": {},
   "outputs": [],
   "source": [
    "# Two things here:\n",
    "# 1. we can pass a variable into a function, and that variable's value will get used in the function. \n",
    "#    It doesn't matter if they share a name, python passes the values only.\n",
    "# 2. We capture the function's output and assign it to a variable 'b':\n",
    "a = 4\n",
    "b = myfunction3(4,a,6)\n",
    "c = a + b\n",
    "print (c)"
   ]
  },
  {
   "cell_type": "markdown",
   "metadata": {},
   "source": [
    "We can return multiple values from a function"
   ]
  },
  {
   "cell_type": "code",
   "execution_count": null,
   "metadata": {},
   "outputs": [],
   "source": [
    "# another example of a function that return multiple values\n",
    "def myfunction4(a,b,c):\n",
    "    d = a + b + c\n",
    "    return (a,b,c,d)"
   ]
  },
  {
   "cell_type": "markdown",
   "metadata": {},
   "source": [
    "And when returning multiple values, we usually getting outputs of the function as follows"
   ]
  },
  {
   "cell_type": "code",
   "execution_count": null,
   "metadata": {},
   "outputs": [],
   "source": [
    "# run this by pressing shift + enter\n",
    "a,b,c,d = myfunction4(a,b,c)\n",
    "print (a,b,c,d)"
   ]
  },
  {
   "cell_type": "markdown",
   "metadata": {},
   "source": [
    "### Variable scope.\n",
    "Variables defined inside a function are not accessible outside the function. Only code inside the function can see the variable. We call this the difference between \"global\" and \"local\" variables. Functions can access both global and local variables defined inside them. If there is a global variable already defined with the same name as a local variable, inside the function the local variable will take precedence."
   ]
  },
  {
   "cell_type": "code",
   "execution_count": null,
   "metadata": {},
   "outputs": [],
   "source": [
    "# This code defines a function, with a local variable named \"someVariable\". \n",
    "def my_function():\n",
    "    someVariable = 10\n",
    "    print(someVariable)\n",
    "\n",
    "my_function()"
   ]
  },
  {
   "cell_type": "code",
   "execution_count": null,
   "metadata": {},
   "outputs": [],
   "source": [
    "# this doesn't work: because 'someVariable' is defined only inside the function.\n",
    "print (someVariable)"
   ]
  },
  {
   "cell_type": "code",
   "execution_count": null,
   "metadata": {},
   "outputs": [],
   "source": [
    "# If we define the variable first, it works:\n",
    "someVariable=15\n",
    "print (someVariable)"
   ]
  },
  {
   "cell_type": "code",
   "execution_count": null,
   "metadata": {},
   "outputs": [],
   "source": [
    "# finally, if we define the variable globally and locally, \n",
    "# it will have the local value inside the function, but the global variable outside the function.\n",
    "# NOTE: This is considered bad practice! Don't name your global and local variables the same, to avoid confusion.\n",
    "\n",
    "someVariable=15\n",
    "\n",
    "print ('outside:')\n",
    "print(someVariable)\n",
    "\n",
    "print ('inside:')\n",
    "my_function()\n",
    "\n",
    "print ('outside:')\n",
    "print(someVariable)"
   ]
  },
  {
   "cell_type": "markdown",
   "metadata": {},
   "source": [
    "----"
   ]
  },
  {
   "cell_type": "markdown",
   "metadata": {},
   "source": [
    "# 10. Modules"
   ]
  },
  {
   "cell_type": "markdown",
   "metadata": {},
   "source": [
    "As your jupyter notebooks grow in size, you may start to lose your functions inside them! To prevent this, we can move the functions out into separate files for easier access and maintenance. Python allows you to put any function and variable definitions in a separate file and use\n",
    "them as a module that can be imported into other programs and scripts. To create a module, put the relevant statements and definitions into a file with the name of the module you want to creaate. Note that the file must have a .py suffix. For example, I have created a module and saved it as my_module.py.\n",
    "\n",
    "Try double-clicking my_module.py to see what it contains.\n"
   ]
  },
  {
   "cell_type": "markdown",
   "metadata": {},
   "source": [
    "To use this module, we can use the \"import\" statement. To use a certain funtion, simply use the name of the module as a prefix, and the function as a suffix"
   ]
  },
  {
   "cell_type": "code",
   "execution_count": null,
   "metadata": {},
   "outputs": [],
   "source": [
    "# import a module\n",
    "import my_module\n",
    "a, b = my_module.ex1(1,4)\n",
    "print (a,b)"
   ]
  },
  {
   "cell_type": "markdown",
   "metadata": {},
   "source": [
    "We can create an alias when we import a module, by using the \"as\" keyword. We saw this above with\n",
    "\n",
    "    import numpy as np"
   ]
  },
  {
   "cell_type": "code",
   "execution_count": null,
   "metadata": {},
   "outputs": [],
   "source": [
    "# create an alias when import a module\n",
    "import my_module as mm\n",
    "a, b = mm.ex1(1,4)\n",
    "print (a,b)"
   ]
  },
  {
   "cell_type": "markdown",
   "metadata": {},
   "source": [
    "If a module becomes very large, it can be slow to import the whole thing. Luckily we only need to do it once per notebook. Even so, sometimes you will see code that imports only one specific function from a module to save time, using the \"from\" statement. If we do it this way, we no longer need to use the module name as a prefix when running the function. \n",
    "\n",
    "For our purposes, it is not recommended to use this approach, but you may see it when viewing code examples around the web, so it's good to know what it means."
   ]
  },
  {
   "cell_type": "code",
   "execution_count": null,
   "metadata": {},
   "outputs": [],
   "source": [
    "# import a module using \"from\"\n",
    "from my_module import ex2\n",
    "a, b = ex2(2,1)\n",
    "print (a,b)"
   ]
  },
  {
   "cell_type": "markdown",
   "metadata": {},
   "source": [
    "We can also rename a function when importing it with \"from\". Again, not recommended, but possible!"
   ]
  },
  {
   "cell_type": "code",
   "execution_count": null,
   "metadata": {},
   "outputs": [],
   "source": [
    "from my_module import ex2 as new_name\n",
    "a, b = new_name(2,1)\n",
    "print (a,b)"
   ]
  },
  {
   "cell_type": "markdown",
   "metadata": {},
   "source": [
    "To import multiple functions, supply import with a comma-separated list of function\n",
    "names"
   ]
  },
  {
   "cell_type": "code",
   "execution_count": null,
   "metadata": {},
   "outputs": [],
   "source": [
    "# import multiple functions\n",
    "from my_module2 import ex1, ex2\n",
    "a, b = ex1(2,1)\n",
    "print (a,b)\n",
    "\n",
    "a, b = ex2(2,1)\n",
    "print (a,b)"
   ]
  },
  {
   "cell_type": "markdown",
   "metadata": {},
   "source": [
    "If you have a very long list of names to import, you can enclose the names in parentheses,\n",
    "which makes it easier to break the import statement across multiple lines"
   ]
  },
  {
   "cell_type": "code",
   "execution_count": null,
   "metadata": {},
   "outputs": [],
   "source": [
    "from my_module import (ex1,\n",
    "                      ex2,\n",
    "                      ex3,\n",
    "                      example_four)"
   ]
  },
  {
   "cell_type": "markdown",
   "metadata": {},
   "source": [
    "To load all of a module’s contents into the current namespace, you can also use the\n",
    "following:"
   ]
  },
  {
   "cell_type": "code",
   "execution_count": null,
   "metadata": {},
   "outputs": [],
   "source": [
    "# import all functions from a module\n",
    "from my_module import *"
   ]
  },
  {
   "cell_type": "markdown",
   "metadata": {},
   "source": [
    "To list all of a module's contents, we can use dir()"
   ]
  },
  {
   "cell_type": "code",
   "execution_count": null,
   "metadata": {},
   "outputs": [],
   "source": [
    "# list contents of a module\n",
    "import my_module\n",
    "dir(my_module)"
   ]
  },
  {
   "cell_type": "markdown",
   "metadata": {},
   "source": [
    "Note that there are some strangely named functions here, with double-underscores. These were created automatically by Python and we won't use them this week. However, it's good to know about one special case:"
   ]
  },
  {
   "cell_type": "markdown",
   "metadata": {},
   "source": [
    "It is possible to make your files become standalone programs by using:\n",
    "        \n",
    "    if __name__ == \"__main__\":\n",
    "    \n",
    "To show this, I have created my_module2.py"
   ]
  },
  {
   "cell_type": "markdown",
   "metadata": {},
   "source": [
    "To run a file as a standalone program, simply use 'run'. "
   ]
  },
  {
   "cell_type": "code",
   "execution_count": null,
   "metadata": {},
   "outputs": [],
   "source": [
    "run my_module2"
   ]
  },
  {
   "cell_type": "markdown",
   "metadata": {},
   "source": [
    "Can you guess what will happen if we execute my_module.py in the same way, even though it does not have a \\_\\_main\\_\\_ block?"
   ]
  },
  {
   "cell_type": "code",
   "execution_count": null,
   "metadata": {},
   "outputs": [],
   "source": [
    "run my_module"
   ]
  },
  {
   "cell_type": "markdown",
   "metadata": {},
   "source": [
    "What happened? Why do you think this is?"
   ]
  },
  {
   "cell_type": "markdown",
   "metadata": {},
   "source": [
    "Note, 'run' is a special command in jupyter and does not use parentheses. If we want to run the program outside jupyter, for example in a linux terminal window, we would go to the folder where it is located, and then type:\n",
    "    \n",
    "    python3 my_module2.py\n",
    "    "
   ]
  }
 ],
 "metadata": {
  "kernelspec": {
   "display_name": "Python 3 (ipykernel)",
   "language": "python",
   "name": "python3"
  },
  "language_info": {
   "codemirror_mode": {
    "name": "ipython",
    "version": 3
   },
   "file_extension": ".py",
   "mimetype": "text/x-python",
   "name": "python",
   "nbconvert_exporter": "python",
   "pygments_lexer": "ipython3",
   "version": "3.10.12"
  }
 },
 "nbformat": 4,
 "nbformat_minor": 4
}
