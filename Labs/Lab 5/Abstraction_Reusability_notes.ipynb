{
 "cells": [
  {
   "cell_type": "markdown",
   "id": "4186b21b-871c-4416-aad5-1a92756ff69b",
   "metadata": {},
   "source": [
    "# Notes on abstraction in python\n",
    "#### Computational Methods for Geoscience - EPS 400/522\n",
    "#### Instructor: Eric Lindsey\n",
    "\n",
    "---------"
   ]
  },
  {
   "cell_type": "markdown",
   "id": "2daf54cf-cc71-4540-bb3f-97ed91a21bbb",
   "metadata": {},
   "source": [
    "## Example 1\n",
    "\n",
    "A series of code blocks that do the same thing, but make use of increasing levels of abstraction"
   ]
  },
  {
   "cell_type": "code",
   "execution_count": null,
   "id": "3dad7c99-d9be-422a-8d70-b9ba4cadbaf1",
   "metadata": {},
   "outputs": [],
   "source": [
    "# Sample 1\n",
    "mass1 = 10.0  # in grams\n",
    "volume1 = 2.0  # in cubic centimeters\n",
    "density1 = mass1 / volume1\n",
    "\n",
    "# Sample 2\n",
    "mass2 = 20.0  # in grams\n",
    "volume2 = 4.0  # in cubic centimeters\n",
    "density2 = mass2 / volume2\n",
    "\n",
    "# Sample 3\n",
    "mass3 = 30.0  # in grams\n",
    "volume3 = 6.0  # in cubic centimeters\n",
    "density3 = mass3 / volume3\n",
    "\n",
    "print(f\"Density of sample 1: {density1} g/cm^3\")\n",
    "print(f\"Density of sample 2: {density2} g/cm^3\")\n",
    "print(f\"Density of sample 3: {density3} g/cm^3\")"
   ]
  },
  {
   "cell_type": "markdown",
   "id": "f9a1bec1-aaea-414a-8be9-dca87c105c7d",
   "metadata": {},
   "source": [
    "Let's improve this with a for loop instead of writing out the code multiple times:"
   ]
  },
  {
   "cell_type": "code",
   "execution_count": null,
   "id": "8fdb2abd-b9a5-4267-b6d7-bd99715b77c6",
   "metadata": {},
   "outputs": [],
   "source": [
    "masses = [10.0, 20.0, 30.0]\n",
    "volumes = [2.0, 4.0, 6.0]\n",
    "densities = []\n",
    "\n",
    "for i in range(len(masses)):\n",
    "    density = masses[i] / volumes[i]\n",
    "    densities.append(density)\n",
    "\n",
    "print(f\"Densities: {densities} g/cm^3\")\n"
   ]
  },
  {
   "cell_type": "markdown",
   "id": "5cb6de1e-6079-4ee9-a75a-fc5528d848ef",
   "metadata": {},
   "source": [
    "A function can help clarify where the calculations are happening and separate that part from the lists:"
   ]
  },
  {
   "cell_type": "code",
   "execution_count": null,
   "id": "35f3934c-69d5-4966-a60f-295c50b49d4b",
   "metadata": {},
   "outputs": [],
   "source": [
    "def calculate_density(mass, volume):\n",
    "    return mass / volume\n",
    "\n",
    "masses = [10.0, 20.0, 30.0]\n",
    "volumes = [2.0, 4.0, 6.0]\n",
    "densities = []\n",
    "\n",
    "for i in range(len(masses)):\n",
    "    densities.append(calculate_density(masses[i], volumes[i]))\n",
    "\n",
    "print(f\"Densities: {densities} g/cm^3\")\n"
   ]
  },
  {
   "cell_type": "markdown",
   "id": "8716d7c0-ea38-4516-bd1a-25e08216065c",
   "metadata": {},
   "source": [
    "We can use a list comprehension in place of a for loop:"
   ]
  },
  {
   "cell_type": "code",
   "execution_count": null,
   "id": "ced6ec3b-16e2-43d0-8e12-f8f026cfd577",
   "metadata": {},
   "outputs": [],
   "source": [
    "def calculate_density(mass, volume):\n",
    "    return mass / volume\n",
    "\n",
    "masses = [10.0, 20.0, 30.0]\n",
    "volumes = [2.0, 4.0, 6.0]\n",
    "\n",
    "# Note: zip() takes as input several lists and returns a list of tuples drawn from each list.\n",
    "# e.g. zip([1,2,3],[4,5,6]) will return [(1,4),(2,5),(3,6)]. Think of it like a zipper - merging two lists!\n",
    "densities = [calculate_density(mass, volume) for mass, volume in zip(masses, volumes)]\n",
    "\n",
    "print(f\"Densities: {densities} g/cm^3\")\n"
   ]
  },
  {
   "cell_type": "markdown",
   "id": "ac2b8c90-e9d7-4606-b15c-a3b6b31aa4be",
   "metadata": {},
   "source": [
    "Finally, at the most \"abstract\" level we could define a custom class and hide all the calculations inside the class definition."
   ]
  },
  {
   "cell_type": "code",
   "execution_count": null,
   "id": "1153188c-ee67-4136-9eaa-fbdbbc9d9756",
   "metadata": {},
   "outputs": [],
   "source": [
    "class RockSample:\n",
    "    def __init__(self, mass, volume):\n",
    "        self.mass = mass\n",
    "        self.volume = volume\n",
    "\n",
    "    def density(self):\n",
    "        return self.mass / self.volume\n",
    "\n",
    "samples = [RockSample(10.0, 2.0), RockSample(20.0, 4.0), RockSample(30.0, 6.0)]\n",
    "densities = [sample.density() for sample in samples]\n",
    "\n",
    "print(f\"Densities: {densities} g/cm^3\")\n"
   ]
  },
  {
   "cell_type": "markdown",
   "id": "ef25fba5-e04f-4b7b-ab6e-a1266f6c3e90",
   "metadata": {},
   "source": [
    "### Example 2: A \"real\" example fitting GNSS velocities\n",
    "\n",
    "Here is another case where we've started out copying and pasting..."
   ]
  },
  {
   "cell_type": "code",
   "execution_count": null,
   "id": "c373be43-8ebb-42b5-8eb8-f720846716be",
   "metadata": {},
   "outputs": [],
   "source": [
    "import pandas as pd\n",
    "import numpy as np\n",
    "\n",
    "# Read TENV_timeseries.csv and fit a line to E, N, U\n",
    "df1 = pd.read_csv('TENV_timeseries.csv')\n",
    "coeffs_E1 = np.polyfit(df1['Time'], df1['E'], 1)\n",
    "coeffs_N1 = np.polyfit(df1['Time'], df1['N'], 1)\n",
    "coeffs_U1 = np.polyfit(df1['Time'], df1['U'], 1)\n",
    "\n",
    "# Read PXYZ_timeseries.csv and fit a line to E, N, U\n",
    "df2 = pd.read_csv('PXYZ_timeseries.csv')\n",
    "coeffs_E2 = np.polyfit(df2['Time'], df2['E'], 1)\n",
    "coeffs_N2 = np.polyfit(df2['Time'], df2['N'], 1)\n",
    "coeffs_U2 = np.polyfit(df2['Time'], df2['U'], 1)\n",
    "\n",
    "# Repeat ad nauseam for every site in the dataset\n",
    "# ...\n",
    "\n",
    "print(f\"TENV: E_velocity = {coeffs_E1[0]}, N_velocity = {coeffs_N1[0]}, U_velocity = {coeffs_U1[0]}\")\n",
    "print(f\"PXYZ: E_velocity = {coeffs_E2[0]}, N_velocity = {coeffs_N2[0]}, U_velocity = {coeffs_U2[0]}\")\n",
    "# ...\n"
   ]
  },
  {
   "cell_type": "markdown",
   "id": "82300086-9812-4a78-ad17-21ca0edb82d2",
   "metadata": {},
   "source": [
    "Again, let's improve this with a for loop instead of writing out the code multiple times:"
   ]
  },
  {
   "cell_type": "code",
   "execution_count": null,
   "id": "6cb1a4c1-1f0d-4be1-b8b4-597383096eae",
   "metadata": {},
   "outputs": [],
   "source": [
    "import pandas as pd\n",
    "import numpy as np\n",
    "\n",
    "site_names = ['TENV', 'PXYZ']\n",
    "velocities = []\n",
    "\n",
    "for site in site_names:\n",
    "    df = pd.read_csv(f\"{site}_timeseries.csv\")\n",
    "    coeffs_E = np.polyfit(df['Time'], df['E'], 1)\n",
    "    coeffs_N = np.polyfit(df['Time'], df['N'], 1)\n",
    "    coeffs_U = np.polyfit(df['Time'], df['U'], 1)\n",
    "    velocities.append((site, coeffs_E[0], coeffs_N[0], coeffs_U[0]))\n",
    "\n",
    "for v in velocities:\n",
    "    print(f\"{v[0]}: E_velocity = {v[1]}, N_velocity = {v[2]}, U_velocity = {v[3]}\")\n"
   ]
  },
  {
   "cell_type": "markdown",
   "id": "00937fe8-f443-4520-b863-7fde0db08da7",
   "metadata": {},
   "source": [
    "A function makes good sense here, since we might want to do this in different situations:"
   ]
  },
  {
   "cell_type": "code",
   "execution_count": null,
   "id": "b5fb4e33-9e0f-40ff-b7e8-a970f025fca5",
   "metadata": {},
   "outputs": [],
   "source": [
    "import pandas as pd\n",
    "import numpy as np\n",
    "\n",
    "def fit_velocity(site):\n",
    "    df = pd.read_csv(f\"{site}_timeseries.csv\")\n",
    "    coeffs_E = np.polyfit(df['Time'], df['E'], 1)\n",
    "    coeffs_N = np.polyfit(df['Time'], df['N'], 1)\n",
    "    coeffs_U = np.polyfit(df['Time'], df['U'], 1)\n",
    "    return site, coeffs_E[0], coeffs_N[0], coeffs_U[0]\n",
    "\n",
    "site_names = ['TENV', 'PXYZ']\n",
    "velocities = [fit_velocity(site) for site in site_names]\n",
    "\n",
    "for v in velocities:\n",
    "    print(f\"{v[0]}: E_velocity = {v[1]}, N_velocity = {v[2]}, U_velocity = {v[3]}\")\n"
   ]
  },
  {
   "cell_type": "markdown",
   "id": "2f4d6acc-182f-4fa0-9d27-d4da853ccd85",
   "metadata": {},
   "source": [
    "Adding a list comprehension - not sure if this makes much difference in this case. However, we are now also outputting the data as a file, which is a very useful addition."
   ]
  },
  {
   "cell_type": "code",
   "execution_count": null,
   "id": "58432693-60cb-4139-89ad-65631955b0d5",
   "metadata": {},
   "outputs": [],
   "source": [
    "import pandas as pd\n",
    "import numpy as np\n",
    "\n",
    "def fit_velocity(site):\n",
    "    df = pd.read_csv(f\"{site}_timeseries.csv\")\n",
    "    coeffs_E = np.polyfit(df['Time'], df['E'], 1)\n",
    "    coeffs_N = np.polyfit(df['Time'], df['N'], 1)\n",
    "    coeffs_U = np.polyfit(df['Time'], df['U'], 1)\n",
    "    return site, coeffs_E[0], coeffs_N[0], coeffs_U[0]\n",
    "\n",
    "site_names = ['TENV', 'PXYZ']\n",
    "velocities = [fit_velocity(site) for site in site_names]\n",
    "velocity_df = pd.DataFrame(velocities, columns=['Site', 'E_velocity', 'N_velocity', 'U_velocity'])\n",
    "\n",
    "print(velocity_df)\n",
    "velocity_df.to_csv('velocities.csv', index=False)\n"
   ]
  },
  {
   "cell_type": "markdown",
   "id": "9a8171a8-e50c-420a-b925-847e3578b80b",
   "metadata": {},
   "source": [
    "Here's a big improvement: instead of manually entering our site names, we just loop over all the files in a certain folder:"
   ]
  },
  {
   "cell_type": "code",
   "execution_count": null,
   "id": "5250d181-9f34-494a-99ad-423ab0ef39ed",
   "metadata": {},
   "outputs": [],
   "source": [
    "import pandas as pd\n",
    "import numpy as np\n",
    "import glob\n",
    "\n",
    "def fit_velocity_file(filename):\n",
    "    df = pd.read_csv(filename)\n",
    "    # Get the site name from the file name\n",
    "    site = file.split('/')[-1].split('_')[0]\n",
    "    coeffs_E = np.polyfit(df['Time'], df['E'], 1)\n",
    "    coeffs_N = np.polyfit(df['Time'], df['N'], 1)\n",
    "    coeffs_U = np.polyfit(df['Time'], df['U'], 1)\n",
    "    return site, coeffs_E[0], coeffs_N[0], coeffs_U[0]\n",
    "\n",
    "# Get the list of CSV files from the \"timeseries\" folder\n",
    "csv_files = glob.glob('timeseries/*.csv')\n",
    "velocities = [fit_velocity_file(file) for file in file_names]\n",
    "velocity_df = pd.DataFrame(velocities, columns=['Site', 'E_velocity', 'N_velocity', 'U_velocity'])\n",
    "\n",
    "print(velocity_df)\n",
    "velocity_df.to_csv('velocities.csv', index=False)\n"
   ]
  },
  {
   "cell_type": "markdown",
   "id": "54a38b0e-2ef1-4a21-bbe3-d0c7f1dbcd8b",
   "metadata": {},
   "source": [
    "Finally, we can create a custom module and hide the functions in there. This cleans things up but isn't actually shorter!"
   ]
  },
  {
   "cell_type": "code",
   "execution_count": null,
   "id": "e740ef24-83a9-4c79-84e1-60d84df7eaba",
   "metadata": {},
   "outputs": [],
   "source": [
    "# this will not work - you have to create the module!\n",
    "import my_gnss_functions\n",
    "\n",
    "# find the velocities\n",
    "velocity_df = my_gnss_functions.fit_velocities('timeseries/*.csv')\n",
    "\n",
    "# print and save the velocities\n",
    "print(velocity_df)\n",
    "velocity_df.to_csv('velocities.csv', index=False)\n"
   ]
  },
  {
   "cell_type": "markdown",
   "id": "bbb5aaf4-b6a4-462b-9fba-fa3973cb8b5c",
   "metadata": {},
   "source": [
    "### Making code readable for others\n",
    "\n",
    "Here are some best practices for code formatting. This is not an exhaustive list - find a ton more examples here: https://peps.python.org/pep-0008/"
   ]
  },
  {
   "cell_type": "code",
   "execution_count": null,
   "id": "27e7746c-6ddb-4bae-94e9-5801fda1c0dc",
   "metadata": {},
   "outputs": [],
   "source": [
    "# Use UpperCamelCase for class names\n",
    "class SampleClass:\n",
    "    pass\n",
    "\n",
    "\n",
    "# Use ALL_CAPS for constant values\n",
    "MAX_SIZE = 100\n",
    "\n",
    "\n",
    "# Use snake_case for function, method, variable, and module names\n",
    "def sample_function():\n",
    "    pass\n",
    "\n",
    "\n",
    "# Use self as the first parameter to instance methods\n",
    "class AnotherClass:\n",
    "    def __init__(self, value):\n",
    "        # Use instance variables to store the object's state\n",
    "        self.value = value\n",
    "        \n",
    "    def get_value(self):\n",
    "        return self.value\n",
    "\n",
    "\n",
    "# Import standard libraries first, followed by third-party libraries, and then your own modules\n",
    "import os\n",
    "import sys\n",
    "import numpy as np\n",
    "from my_module import my_function\n",
    "\n",
    "\n",
    "# Use inline comments sparingly and make them meaningful\n",
    "total = 0  # This is an inline comment that is not very useful\n",
    "# This is a more meaningful comment explaining why we need to initialize total to zero\n",
    "# before starting the accumulation process.\n",
    "\n",
    "\n",
    "# Use docstrings to describe the purpose of functions and classes\n",
    "def add_numbers(a, b):\n",
    "    \"\"\"\n",
    "    This function adds two numbers and returns the result.\n",
    "    \n",
    "    :param a: The first number to add.\n",
    "    :param b: The second number to add.\n",
    "    :return: The sum of a and b.\n",
    "    \"\"\"\n",
    "    return a + b\n",
    "\n",
    "\n",
    "# Avoid using single-character variable names except for counters or in list comprehensions\n",
    "for i in range(10):\n",
    "    print(i)\n",
    "\n",
    "# Instead of:\n",
    "s = 'Hello, World!'\n",
    "# Use:\n",
    "mystring = 'Hello, World!'\n",
    "\n",
    "# An exception: Use list comprehensions for concise and expressive list manipulations\n",
    "squares = [x * x for x in range(10)]\n",
    "\n",
    "# Use spaces around operators and after commas for readability\n",
    "x = 1 + 2\n",
    "my_list = [1, 2, 3]\n",
    "\n",
    "# Use blank lines to separate logical sections of the code\n",
    "def another_function():\n",
    "    x = 10\n",
    "    y = 20\n",
    "    \n",
    "    # Blank line to separate logical sections\n",
    "    result = x + y\n",
    "    return result\n",
    "\n",
    "\n",
    "# break long expressions before operators, instead of after\n",
    "\n",
    "# Wrong:\n",
    "# operators sit far away from their operands\n",
    "income = (gross_wages +\n",
    "          taxable_interest +\n",
    "          (dividends - qualified_dividends) -\n",
    "          ira_deduction -\n",
    "          student_loan_interest)\n",
    "\n",
    "# Correct:\n",
    "# easy to match operators with operands\n",
    "income = (gross_wages\n",
    "          + taxable_interest\n",
    "          + (dividends - qualified_dividends)\n",
    "          - ira_deduction\n",
    "          - student_loan_interest)\n",
    "\n"
   ]
  },
  {
   "cell_type": "code",
   "execution_count": null,
   "id": "073aedbe-9a02-43bc-96ed-25d47d45bc28",
   "metadata": {},
   "outputs": [],
   "source": []
  }
 ],
 "metadata": {
  "kernelspec": {
   "display_name": "Python 3 (ipykernel)",
   "language": "python",
   "name": "python3"
  },
  "language_info": {
   "codemirror_mode": {
    "name": "ipython",
    "version": 3
   },
   "file_extension": ".py",
   "mimetype": "text/x-python",
   "name": "python",
   "nbconvert_exporter": "python",
   "pygments_lexer": "ipython3",
   "version": "3.10.12"
  }
 },
 "nbformat": 4,
 "nbformat_minor": 5
}
