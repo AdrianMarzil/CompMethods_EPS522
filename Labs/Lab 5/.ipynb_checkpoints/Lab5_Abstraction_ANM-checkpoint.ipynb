{
 "cells": [
  {
   "cell_type": "markdown",
   "id": "direct-asian",
   "metadata": {},
   "source": [
    "# Lab 5. Abstraction and reusability\n",
    "#### Computational Methods for Geoscience - EPS 400/522\n",
    "#### Instructor: Eric Lindsey\n",
    "\n",
    "Due: Oct. 5, 2023\n",
    "\n",
    "---------"
   ]
  },
  {
   "cell_type": "code",
   "execution_count": null,
   "id": "center-trail",
   "metadata": {},
   "outputs": [],
   "source": [
    "# some useful imports and settings\n",
    "import numpy as np\n",
    "import pandas as pd\n",
    "import matplotlib.pyplot as plt\n",
    "import glob\n",
    "\n",
    "# better looking figures on high-resolution screens\n",
    "%config InlineBackend.figure_format = 'retina'\n",
    "\n",
    "# reload modules if they have changed - necessary when you are editing your own module\n",
    "%load_ext autoreload\n",
    "%autoreload 2"
   ]
  },
  {
   "cell_type": "markdown",
   "id": "1a0cc41c-af4c-4539-9352-260e9eb3dee3",
   "metadata": {},
   "source": [
    "### 1. Using glob to find files\n",
    "\n",
    "The folder 'timeseries' (you will have to unzip it first) contains a set of GNSS timeseries from the UNR MAGNET site. Let's explore how 'glob' can interact with these files.\n",
    "\n",
    "1. Use glob to get a list of all the files, and print out each filename.\n",
    "\n",
    "2. The sites starting with a letter 'P' were installed under a single project called the 'Plate Boundary Observatory'. Suppose we wanted to list only those files - can you use 'glob' with wildcards to return only the list of names starting with P?"
   ]
  },
  {
   "cell_type": "code",
   "execution_count": null,
   "id": "e030db2e-4898-4a86-a986-1f2ab70f0c27",
   "metadata": {},
   "outputs": [],
   "source": []
  },
  {
   "cell_type": "markdown",
   "id": "d2fefebe-70f9-443d-abc5-7766de048ee0",
   "metadata": {},
   "source": [
    "### 2. Write a module to interact with the GNSS timeseries\n",
    "\n",
    "The module should have (at a minimum) the following four functions with their definitions:\n",
    "\n",
    "fit_timeseries(tlist,ylist) - accepts two lists: t (decimal year) and y (displacement timeseries)  as 1-D numpy arrays, and returns the least-squares velocity and uncertainty for that timeseries. If possible, try to re-use the line-fitting code you wrote for Lab 3 for this purpose.\n",
    "\n",
    "fit_velocities(filename) - accepts a filename, reads in the data, and uses fit_timeseries() to estimate the E, N and U components of velocity for that site.\n",
    "\n",
    "get_coordinates(filename) - accepts a filename and returns the average latitude, longitude, and elevation for that site over the time period.\n",
    "\n",
    "fit_all_velocities(folder,pattern) - accepts a folder name and a 'glob' pattern and returns a pandas data frame with the site name, coordinates, velocities and uncertainties.\n",
    "\n",
    "Finally, import your module and demonstrate each function below to show how it works and what it returns."
   ]
  },
  {
   "cell_type": "code",
   "execution_count": null,
   "id": "754cba95-9568-4e92-a14f-44163332110a",
   "metadata": {},
   "outputs": [],
   "source": []
  },
  {
   "cell_type": "markdown",
   "id": "27ff7646-860f-4a87-accd-a77e1c41d0a4",
   "metadata": {},
   "source": [
    "### 3. Upload the module to GitHub, along with a README.md file explaining briefly how to use it.\n",
    "\n",
    "Enter a link to your GitHub repository here for me to check out: \n"
   ]
  },
  {
   "cell_type": "markdown",
   "id": "141c8fb3-05cd-486f-8cac-32ff52075e84",
   "metadata": {},
   "source": []
  },
  {
   "cell_type": "markdown",
   "id": "e8beca1f-c264-4bb0-8bdb-393a3f1194b3",
   "metadata": {},
   "source": [
    "### 4. Use the timeseries calculation module you created\n",
    "\n",
    "Using at most 5 lines of code, import the module you created above and use it to estimate the timeseries for all 10 of the sites, print them out, and save the results to a new file 'site_velocities.csv'. Feel free to download more sites as well and put them in the folder too!\n"
   ]
  },
  {
   "cell_type": "code",
   "execution_count": null,
   "id": "1394f71a-8eba-42d7-81a9-23c5b108a9f4",
   "metadata": {},
   "outputs": [],
   "source": []
  },
  {
   "cell_type": "markdown",
   "id": "coupled-terminology",
   "metadata": {},
   "source": [
    "### 5. Re-use your module to estimate sea level rise rates\n",
    "\n",
    "Go to the following page and download at least 5 monthly sea level timeseries spanning at least 100 years: https://psmsl.org/products/gloss/glossmap.html. Place them in a new folder.\n",
    "\n",
    "(To download the data: click a station icon on the map, then click the station number/name (first link in the pop-up, e.g. \"155: Honolulu\". Then right-click the link next to the plot of monthly data (\"Download monthly mean sea level data.\") and save it as a file.)\n",
    "\n",
    "Now, create a new function \"fit_tide_gauge\" in your module that re-uses your function \"fit_timeseries\" to return the relative sea level rate of change for a given station. \n",
    "\n",
    "Next, modify your function \"fit_all_velocities\" to accept a \"type\" parameter (GNSS or tide), and re-use it to estimate the rates for all the tide gauges you downloaded. Print out the results below.\n",
    "\n",
    "Finally, update your github repository with this new version of the module.\n"
   ]
  },
  {
   "cell_type": "code",
   "execution_count": null,
   "id": "f9dee49e-817a-47b2-af0d-fb6e811650f3",
   "metadata": {},
   "outputs": [],
   "source": []
  }
 ],
 "metadata": {
  "kernelspec": {
   "display_name": "Python 3 (ipykernel)",
   "language": "python",
   "name": "python3"
  },
  "language_info": {
   "codemirror_mode": {
    "name": "ipython",
    "version": 3
   },
   "file_extension": ".py",
   "mimetype": "text/x-python",
   "name": "python",
   "nbconvert_exporter": "python",
   "pygments_lexer": "ipython3",
   "version": "3.10.8"
  }
 },
 "nbformat": 4,
 "nbformat_minor": 5
}
