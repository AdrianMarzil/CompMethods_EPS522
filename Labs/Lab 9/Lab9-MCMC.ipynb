{
 "cells": [
  {
   "cell_type": "markdown",
   "id": "750e9378",
   "metadata": {},
   "source": [
    "# Lab 9. Bayesian analysis and Monte Carlo simulation\n",
    "#### Computational Methods for Geoscience - Fall 2023\n",
    "#### Instructor: Eric Lindsey\n",
    "\n",
    "Due: Nov. 9, 2023\n",
    "\n",
    "---------"
   ]
  },
  {
   "cell_type": "code",
   "execution_count": null,
   "id": "59a05db9",
   "metadata": {},
   "outputs": [],
   "source": [
    "# some useful imports and settings\n",
    "import numpy as np\n",
    "import pandas as pd\n",
    "import matplotlib.pyplot as plt\n",
    "import scipy.optimize\n",
    "\n",
    "# new this week - you may need to install these, using whichever method works for your computer.\n",
    "import emcee\n",
    "import corner\n",
    "\n",
    "%config InlineBackend.figure_format = 'retina' # better looking figures on high-resolution screens\n",
    "# automatically reload modules when running, otherwise jupyter does not notice if our functions have changed\n",
    "%load_ext autoreload\n",
    "%autoreload 2\n"
   ]
  },
  {
   "cell_type": "markdown",
   "id": "3bcfaf90",
   "metadata": {
    "tags": []
   },
   "source": [
    "## Mystery data\n",
    "\n",
    "We have some data that seem to follow a sinusoidal function plus a linear trend. Not knowing much about the data, suppose we hypothesize that it can be fit by the following 5-parameter function:\n",
    "\n",
    "$ y(x) = a\\sin(bx+c) + dx + e $\n",
    "\n",
    "Below, we have tried to fit this with scipy curve_fit. The results are not promising..."
   ]
  },
  {
   "cell_type": "code",
   "execution_count": null,
   "id": "17d1d917",
   "metadata": {},
   "outputs": [],
   "source": [
    "# load the data from the csv file\n",
    "\n",
    "data = pd.read_csv('mystery_data.csv')\n",
    "x=np.array(data['x'])\n",
    "y=np.array(data['y'])\n",
    "yerr=np.array(data['yerr'])\n",
    "\n",
    "# create our \"hypothesized\" model\n",
    "\n",
    "# define our model here - in this case, just a line. \n",
    "def my_model(x,*params):\n",
    "    # this first line \"unpacks\" the list [params] into elements. \n",
    "    # An easier way to pass many variables to a function.\n",
    "    a,b,c,d,e = params\n",
    "    # Compute the model, and return the y values\n",
    "    model = a*np.sin(b*x + c) + d*x + e\n",
    "    return model\n",
    "\n",
    "# here, p0 is the 'initial guess' for this method. \n",
    "# m is the model output, and mcov is the model covariance, or uncertainties.\n",
    "m,mcov = scipy.optimize.curve_fit(my_model,x,y,p0=np.ones(5))\n",
    "print('Scipy curve_fit found: a,b =',m)\n",
    "print('Covariances:\\n',mcov)\n",
    "\n",
    "# create a new, evenly sampled x array for plotting the \"fitted\" function\n",
    "x_plot = np.linspace(0,5,100)\n",
    "\n",
    "# to get the predicted y-values, we can just call our function with the \n",
    "# model parameters determined by scipy.\n",
    "lsq_model = my_model(x_plot,*m) \n",
    "\n",
    "plt.figure(figsize=(9,5))\n",
    "plt.errorbar(x,y,yerr=yerr,fmt='-ks',label='noisy data',capsize=4)\n",
    "plt.plot(x_plot,lsq_model, '-r', label='least-squares fit')\n",
    "plt.legend(loc='lower right')\n",
    "plt.grid()\n",
    "plt.show()\n"
   ]
  },
  {
   "cell_type": "markdown",
   "id": "682f96ae-b41f-4b31-99f5-1102eb01c218",
   "metadata": {},
   "source": [
    "## Assignment: fit the data with Monte Carlo\n",
    "\n",
    "We should be able to do much better than this with Monte Carlo sampling! \n",
    "\n",
    "Modify the example code from the notes to estimate the five parameters that were used to generate these data.\n",
    "\n",
    "Some things to think about:\n",
    "\n",
    "- You will need to write 3 functions: the log-likelihood function, the log-prior function, and the log-probability function. Most of these will be nearly the same as in the line-fitting example.\n",
    "\n",
    "- Think about what starting locations you give the model for each parameter, and the number of samples to generate for your sampler. If you are having trouble, try re-running your sampler using the best-fitting parameters from the first run as your initial guess for the second run.\n",
    "\n",
    "- Think about the prior distribution - a uniform range is probably fine, but what is the range? Think about this particularly for parameter 'c', the phase shift - if you make the range too large you could get multiple solutions!\n",
    "\n",
    "Your final results should contain a plot of the best-fitting solution to the data, and the probability distribution function plots showing nice shapes (they should be nearly gaussian) for each of the parameters."
   ]
  },
  {
   "cell_type": "code",
   "execution_count": null,
   "id": "b17729e7-2c48-430b-9c41-7acf52786709",
   "metadata": {},
   "outputs": [],
   "source": []
  }
 ],
 "metadata": {
  "kernelspec": {
   "display_name": "Python 3 (ipykernel)",
   "language": "python",
   "name": "python3"
  },
  "language_info": {
   "codemirror_mode": {
    "name": "ipython",
    "version": 3
   },
   "file_extension": ".py",
   "mimetype": "text/x-python",
   "name": "python",
   "nbconvert_exporter": "python",
   "pygments_lexer": "ipython3",
   "version": "3.10.8"
  }
 },
 "nbformat": 4,
 "nbformat_minor": 5
}
