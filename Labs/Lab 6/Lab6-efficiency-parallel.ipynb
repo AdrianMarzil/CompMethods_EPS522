{
 "cells": [
  {
   "cell_type": "markdown",
   "id": "impressive-failing",
   "metadata": {},
   "source": [
    "# Lab 5. Efficiency, parallel Processing and benchmarking\n",
    "#### Computational Methods for Geoscience\n",
    "#### Instructor: Eric Lindsey\n",
    "\n",
    "Due: Oct. 17, 2023\n",
    "\n",
    "---------"
   ]
  },
  {
   "cell_type": "markdown",
   "id": "meaningful-stack",
   "metadata": {},
   "source": [
    "In this lab, we'll use some tricks to speed up processing of a big dataset that would take too much time to run in a simple way."
   ]
  },
  {
   "cell_type": "code",
   "execution_count": 2,
   "id": "driven-ranch",
   "metadata": {},
   "outputs": [],
   "source": [
    "# some useful imports and settings\n",
    "import numpy as np\n",
    "import pandas as pd\n",
    "import matplotlib.pyplot as plt\n",
    "from ipywidgets import interactive\n",
    "import netCDF4 as nc\n",
    "import datetime\n",
    "import scipy.optimize\n",
    "import time\n",
    "import multiprocessing as mp\n",
    "%config InlineBackend.figure_format = 'retina' # better looking figures on high-resolution screens\n",
    "\n",
    "# automatically reload modules when running, otherwise jupyter does not notice if our functions have changed\n",
    "%load_ext autoreload\n",
    "%autoreload 2"
   ]
  },
  {
   "cell_type": "markdown",
   "id": "8ff10133-0a15-4b71-a3c0-f8eabbf95b74",
   "metadata": {},
   "source": [
    "\n",
    "## Assignment 1: \n",
    "\n",
    "a. Write a short function that accepts an integer N, and generates synthetic noisy data (x and y values) that roughly follow a linear relationship. \n",
    "\n",
    "b. Run your line-fitting function (from last week's lab) on these synthetic data several times, varying the value of N in a few steps between 10 to 1,000,000 points.\n",
    "\n",
    "c. Plot the run time of the line-fitting operation against the number of data points on a log-log plot. What is the scaling relationship?"
   ]
  },
  {
   "cell_type": "code",
   "execution_count": null,
   "id": "ff9db7bb-6569-4be5-8cca-bc308eb56b22",
   "metadata": {},
   "outputs": [],
   "source": []
  },
  {
   "cell_type": "markdown",
   "id": "documentary-kelly",
   "metadata": {},
   "source": [
    "## Assignment 2: Sea surface temperature trends\n",
    "\n",
    "We have been working with the SST data for a few weeks now. You previously downloaded the large file 'sst.mon.mean.nc', which includes maps of measured and estimated sea surface temperatures every month, over the past 130 years. Considering the effects of climate change on the oceans, do you think the sea surface has gotten warmer over time?\n",
    "\n",
    "a. Use your line-fitting function from above to fit a line to the SST trend at one point, using decimal years as your t-axis. Make a plot showing the data and the linear fit at that point. (This is very similar to an assignment we did already! Feel free to reuse your code).\n",
    "\n",
    "b. Try running the line-fitting function over all points on earth. Store the resulting slope value (in units of degrees C per year) in a new matrix with the same size as the original map (180 rows, 360 columns). There are 64800 timeseries to be fit, so this could take a long time. Some things to consider:\n",
    "\n",
    "* The continents are invalid data. We should be able to skip over those and just return `np.nan` for the slope immediately.\n",
    "* The NetCDF format of the data is slow to use. Try converting your data to a np.array() first to speed things up.\n",
    "* Think carefully about how you are accessing and storing your data to speed things up a bit more.\n",
    "* Try running things in parallel if you want, to get even more speedup!\n",
    "\n",
    "c. Make a map showing the rate of SST change at every point in the oceans.\n",
    "\n",
    "d. Report how long it takes in total to fit a line to every timeseries in the dataset. Fastest time wins!\n",
    "\n",
    "\n",
    "Happy coding! Feel free to work in groups, or get in touch with me if you get stuck."
   ]
  },
  {
   "cell_type": "code",
   "execution_count": null,
   "id": "stopped-tonight",
   "metadata": {},
   "outputs": [],
   "source": []
  }
 ],
 "metadata": {
  "kernelspec": {
   "display_name": "Python 3 (ipykernel)",
   "language": "python",
   "name": "python3"
  },
  "language_info": {
   "codemirror_mode": {
    "name": "ipython",
    "version": 3
   },
   "file_extension": ".py",
   "mimetype": "text/x-python",
   "name": "python",
   "nbconvert_exporter": "python",
   "pygments_lexer": "ipython3",
   "version": "3.10.8"
  }
 },
 "nbformat": 4,
 "nbformat_minor": 5
}
